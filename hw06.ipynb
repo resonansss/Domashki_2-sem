{
 "cells": [
  {
   "cell_type": "code",
   "execution_count": 8,
   "metadata": {},
   "outputs": [],
   "source": [
    "from typing import List, Tuple\n",
    "import spacy\n",
    "from scipy.spatial.distance import cosine"
   ]
  },
  {
   "cell_type": "code",
   "execution_count": 9,
   "metadata": {},
   "outputs": [],
   "source": [
    "class ContextEmbedding:\n",
    "\n",
    "    def __init__(self, window_size: int, vocab_size: int):\n",
    "        \n",
    "        self.window_size = window_size\n",
    "        self.vocab_size = vocab_size\n",
    "        self.nlp = spacy.load(\"en_core_web_md\")\n",
    "        self.vocab = []\n",
    "        self.dictionary = {}\n",
    "        self.embeddings = {}\n",
    "        self.similarities = {}"
   ]
  },
  {
   "attachments": {},
   "cell_type": "markdown",
   "metadata": {},
   "source": [
    "Это функия для предобработки текста: здесь токенизация, лемматизация, удаление знаков препинания и прочего мусора"
   ]
  },
  {
   "cell_type": "code",
   "execution_count": 10,
   "metadata": {},
   "outputs": [],
   "source": [
    "def preprocess_text(self, text: str) -> List[str]:\n",
    "        \n",
    "        doc = self.nlp(text)\n",
    "        words = []\n",
    "\n",
    "        for token in doc:\n",
    "            if token.is_stop or token.is_punct or not token.is_alpha:\n",
    "                continue\n",
    "\n",
    "            if token.pos_ not in ['NOUN', 'VERB', 'ADJ', 'ADV']:\n",
    "                continue\n",
    "            \n",
    "            words.append(token.lemma_)\n",
    "\n",
    "        return words"
   ]
  },
  {
   "attachments": {},
   "cell_type": "markdown",
   "metadata": {},
   "source": [
    "Здесь мы подготавливаем корпус (строим словарь и матрицы для эмбеддингов)"
   ]
  },
  {
   "cell_type": "code",
   "execution_count": 11,
   "metadata": {},
   "outputs": [],
   "source": [
    "def preprocess_corpus(self, corpus: List[str]) -> None:\n",
    "        \n",
    "        vocab_counts = {}\n",
    "        for text in corpus:\n",
    "            words = self.preprocess_text(text)\n",
    "\n",
    "            for word in words:\n",
    "                if word in vocab_counts:\n",
    "                    vocab_counts[word] += 1\n",
    "                else:\n",
    "                    vocab_counts[word] = 1\n",
    "\n",
    "        self.vocab = sorted(vocab_counts.items(), key=lambda x: x[1], reverse=True)[:self.vocab_size]\n",
    "        self.dictionary = {word[0]: idx for idx, word in enumerate(self.vocab)}\n",
    "        embeddings = []\n",
    "\n",
    "        for _ in range(len(self.vocab)):\n",
    "            embeddings.append([0] * len(self.vocab))\n",
    "\n",
    "        for text in corpus:\n",
    "            words = self.preprocess_text(text)\n",
    "\n",
    "            for idx, word in enumerate(words):\n",
    "                if word not in self.dictionary:\n",
    "                    continue\n",
    "\n",
    "                for j in range(max(0, idx - self.window_size), idx):\n",
    "                    if j >= len(words) or words[j] not in self.dictionary:\n",
    "                        continue\n",
    "                    embeddings[self.dictionary[word]][self.dictionary[words[j]]] += 1\n",
    "\n",
    "                for j in range(idx + 1, min(len(words), idx + self.window_size + 1)):\n",
    "                    if words[j] not in self.dictionary:\n",
    "                        continue\n",
    "                    embeddings[self.dictionary[word]][self.dictionary[words[j]]] += 1\n",
    "\n",
    "        self.embeddings = {self.vocab[idx][0]: embedding for idx, embedding in enumerate(embeddings)}\n",
    "        \n",
    "        for word1 in self.embeddings:\n",
    "            for word2 in self.embeddings:\n",
    "                if word1 not in self.similarities:\n",
    "                    self.similarities[word1] = []\n",
    "                dist = cosine(self.embeddings[word1], self.embeddings[word2])\n",
    "                self.similarities[word1].append((word2, dist))\n",
    "            self.similarities[word1] = sorted(self.similarities[word1], key=lambda x: x[1])"
   ]
  },
  {
   "attachments": {},
   "cell_type": "markdown",
   "metadata": {},
   "source": [
    "Загружаем и обрабатываем данные из файлов корпуса"
   ]
  },
  {
   "cell_type": "code",
   "execution_count": 12,
   "metadata": {},
   "outputs": [],
   "source": [
    "def train(self, corpus_files: List[str]) -> None:\n",
    "\n",
    "        corpus = []\n",
    "        for file_path in corpus_files:\n",
    "            with open(file_path, 'r', encoding='utf-8') as f:\n",
    "                text = f.read()\n",
    "                corpus.append(text)\n",
    "                \n",
    "        self.preprocess_corpus(corpus)"
   ]
  },
  {
   "attachments": {},
   "cell_type": "markdown",
   "metadata": {},
   "source": [
    "Ищем наиболее похожие слова по контексту слова"
   ]
  },
  {
   "cell_type": "code",
   "execution_count": 13,
   "metadata": {},
   "outputs": [],
   "source": [
    "def get_similarity(self, word: str, top_n: int) -> List[Tuple[str, float]]:\n",
    "\n",
    "        if word not in self.similarities:\n",
    "            return []\n",
    "        return self.similarities[word][:top_n]"
   ]
  },
  {
   "cell_type": "code",
   "execution_count": 14,
   "metadata": {},
   "outputs": [
    {
     "ename": "AttributeError",
     "evalue": "'ContextEmbedding' object has no attribute 'train'",
     "output_type": "error",
     "traceback": [
      "\u001b[1;31m---------------------------------------------------------------------------\u001b[0m",
      "\u001b[1;31mAttributeError\u001b[0m                            Traceback (most recent call last)",
      "Cell \u001b[1;32mIn[14], line 2\u001b[0m\n\u001b[0;32m      1\u001b[0m context_embedding \u001b[39m=\u001b[39m ContextEmbedding(window_size\u001b[39m=\u001b[39m\u001b[39m5\u001b[39m, vocab_size\u001b[39m=\u001b[39m\u001b[39m1000\u001b[39m)\n\u001b[1;32m----> 2\u001b[0m context_embedding\u001b[39m.\u001b[39;49mtrain()\n\u001b[0;32m      3\u001b[0m similar_words \u001b[39m=\u001b[39m context_embedding\u001b[39m.\u001b[39mget_similarity(\u001b[39m'\u001b[39m\u001b[39mapple\u001b[39m\u001b[39m'\u001b[39m, top_n\u001b[39m=\u001b[39m\u001b[39m5\u001b[39m)\n\u001b[0;32m      4\u001b[0m \u001b[39mprint\u001b[39m(similar_words)\n",
      "\u001b[1;31mAttributeError\u001b[0m: 'ContextEmbedding' object has no attribute 'train'"
     ]
    }
   ],
   "source": [
    "context_embedding = ContextEmbedding(window_size=5, vocab_size=1000)\n",
    "context_embedding.train()\n",
    "similar_words = context_embedding.get_similarity('apple', top_n=5)\n",
    "print(similar_words)"
   ]
  }
 ],
 "metadata": {
  "kernelspec": {
   "display_name": "Python 3",
   "language": "python",
   "name": "python3"
  },
  "language_info": {
   "codemirror_mode": {
    "name": "ipython",
    "version": 3
   },
   "file_extension": ".py",
   "mimetype": "text/x-python",
   "name": "python",
   "nbconvert_exporter": "python",
   "pygments_lexer": "ipython3",
   "version": "3.10.11"
  },
  "orig_nbformat": 4
 },
 "nbformat": 4,
 "nbformat_minor": 2
}
