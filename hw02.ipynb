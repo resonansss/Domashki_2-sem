{
 "cells": [
  {
   "cell_type": "code",
   "execution_count": 170,
   "metadata": {},
   "outputs": [],
   "source": [
    "import pandas as pd\n",
    "import numpy as np\n",
    "import seaborn as sns\n",
    "import matplotlib.pyplot as plt\n",
    "\n",
    "from sklearn.model_selection import train_test_split, cross_val_score\n",
    "from sklearn.metrics import accuracy_score, classification_report\n",
    "from sklearn.linear_model import LinearRegression, LogisticRegression, LassoCV, Lasso, RidgeCV, Ridge, ElasticNet\n",
    "from sklearn.metrics import mean_squared_error, r2_score, confusion_matrix, ConfusionMatrixDisplay\n",
    "from sklearn.pipeline import Pipeline, make_pipeline\n",
    "from sklearn.preprocessing import StandardScaler, MinMaxScaler\n",
    "from sklearn.svm import SVC"
   ]
  },
  {
   "attachments": {},
   "cell_type": "markdown",
   "metadata": {},
   "source": [
    "Задание 1"
   ]
  },
  {
   "cell_type": "code",
   "execution_count": null,
   "metadata": {},
   "outputs": [],
   "source": [
    "data = pd.read_csv(r\"C:\\Users\\mkuzo\\Desktop\\Программирование_2 сем\\mag2022\\CL\\term02\\02-Regularization, Normalization\\Cellphone.csv\")\n",
    "data.head() "
   ]
  },
  {
   "cell_type": "code",
   "execution_count": null,
   "metadata": {},
   "outputs": [],
   "source": [
    "data.size"
   ]
  },
  {
   "cell_type": "code",
   "execution_count": null,
   "metadata": {},
   "outputs": [],
   "source": [
    "data.shape"
   ]
  },
  {
   "cell_type": "code",
   "execution_count": null,
   "metadata": {},
   "outputs": [],
   "source": [
    "data.dtypes\n"
   ]
  },
  {
   "cell_type": "code",
   "execution_count": null,
   "metadata": {},
   "outputs": [],
   "source": [
    "data.dtypes.value_counts"
   ]
  },
  {
   "cell_type": "code",
   "execution_count": null,
   "metadata": {},
   "outputs": [],
   "source": [
    "data.info"
   ]
  },
  {
   "cell_type": "code",
   "execution_count": null,
   "metadata": {},
   "outputs": [],
   "source": [
    "data.info()"
   ]
  },
  {
   "cell_type": "code",
   "execution_count": null,
   "metadata": {},
   "outputs": [],
   "source": [
    "for i in data:\n",
    "    print(i)\n",
    "    print(data[i].unique())"
   ]
  },
  {
   "attachments": {},
   "cell_type": "markdown",
   "metadata": {},
   "source": [
    "Я посмотрела, мне как-то все колонки нравятся, все может влиять на цену. Не очень поняла, что происходит с колонкой sale, там какие-то странные значения, за 100 и даже 1000 выходят, но это же скидка (??). Дропаю ее и Продукт_айди"
   ]
  },
  {
   "cell_type": "code",
   "execution_count": null,
   "metadata": {},
   "outputs": [],
   "source": [
    "data[\"Sale\"].unique()"
   ]
  },
  {
   "cell_type": "code",
   "execution_count": null,
   "metadata": {},
   "outputs": [],
   "source": [
    "data.drop(columns = 'Product_id', axis = 1 , inplace = True)"
   ]
  },
  {
   "cell_type": "code",
   "execution_count": null,
   "metadata": {},
   "outputs": [],
   "source": [
    "data.drop(columns = 'Sale', axis = 1 , inplace = True)"
   ]
  },
  {
   "cell_type": "code",
   "execution_count": null,
   "metadata": {},
   "outputs": [],
   "source": [
    "data.head()"
   ]
  },
  {
   "cell_type": "code",
   "execution_count": null,
   "metadata": {},
   "outputs": [],
   "source": [
    "X = data.drop('Price', axis=1)\n",
    "y = data['Price']"
   ]
  },
  {
   "cell_type": "code",
   "execution_count": null,
   "metadata": {},
   "outputs": [],
   "source": [
    "Xtrain, Xtest, ytrain, ytest = train_test_split(X, y, test_size=0.2)"
   ]
  },
  {
   "cell_type": "code",
   "execution_count": null,
   "metadata": {},
   "outputs": [],
   "source": [
    "scaler = StandardScaler().fit(Xtrain)\n",
    "Xtrain = scaler.transform(Xtrain)\n",
    "Xtest = scaler.transform(Xtest)"
   ]
  },
  {
   "cell_type": "code",
   "execution_count": null,
   "metadata": {},
   "outputs": [],
   "source": [
    "regressor = LinearRegression()\n",
    "regressor.fit(Xtrain, ytrain)"
   ]
  },
  {
   "cell_type": "code",
   "execution_count": null,
   "metadata": {},
   "outputs": [],
   "source": [
    "ypred_train = regressor.predict(Xtrain)\n",
    "ypred_test = regressor.predict(Xtest)"
   ]
  },
  {
   "cell_type": "code",
   "execution_count": null,
   "metadata": {},
   "outputs": [],
   "source": [
    "r2_score(ytrain,ypred_train), r2_score(ytest,ypred_test)"
   ]
  },
  {
   "cell_type": "code",
   "execution_count": null,
   "metadata": {},
   "outputs": [],
   "source": [
    "coefficients = pd.concat([pd.DataFrame(X.columns),pd.DataFrame(np.transpose(regressor.coef_))], axis = 1)\n",
    "print(f'коэффициенты{coefficients}')"
   ]
  },
  {
   "cell_type": "code",
   "execution_count": null,
   "metadata": {},
   "outputs": [],
   "source": [
    "data_1 = pd.DataFrame(data=np.c_[data.drop(columns = 'Price', axis = 1), data['Price']],\n",
    "                     columns=list(data.drop(columns = 'Price', axis = 1)) + ['Price'])"
   ]
  },
  {
   "cell_type": "code",
   "execution_count": null,
   "metadata": {},
   "outputs": [],
   "source": [
    "plt.figure(figsize=(9,12))"
   ]
  },
  {
   "cell_type": "code",
   "execution_count": null,
   "metadata": {},
   "outputs": [],
   "source": [
    "corr = data_1.corr()"
   ]
  },
  {
   "cell_type": "code",
   "execution_count": null,
   "metadata": {},
   "outputs": [],
   "source": [
    "g = sns.heatmap(corr,annot=True,linewidths=.5,fmt= '.2f',\\\n",
    "            mask=np.zeros_like(corr, dtype=bool), \\\n",
    "            cmap=sns.diverging_palette(200,300,as_cmap=True))"
   ]
  },
  {
   "attachments": {},
   "cell_type": "markdown",
   "metadata": {},
   "source": [
    "Видимо на цену не сильно влияют: weight и thickness. Попробую их дропнуть"
   ]
  },
  {
   "cell_type": "code",
   "execution_count": null,
   "metadata": {},
   "outputs": [],
   "source": [
    "data.drop(columns = 'weight', axis = 1 , inplace = True)"
   ]
  },
  {
   "cell_type": "code",
   "execution_count": null,
   "metadata": {},
   "outputs": [],
   "source": [
    "data.drop(columns = 'thickness', axis = 1 , inplace = True)"
   ]
  },
  {
   "cell_type": "code",
   "execution_count": null,
   "metadata": {},
   "outputs": [],
   "source": [
    "X = data.drop('Price', axis=1)\n",
    "y = data['Price']"
   ]
  },
  {
   "cell_type": "code",
   "execution_count": null,
   "metadata": {},
   "outputs": [],
   "source": [
    "Xtrain, Xtest, ytrain, ytest = train_test_split(X, y, test_size=0.2)"
   ]
  },
  {
   "cell_type": "code",
   "execution_count": null,
   "metadata": {},
   "outputs": [],
   "source": [
    "scaler = StandardScaler().fit(Xtrain)\n",
    "Xtrain = scaler.transform(Xtrain)\n",
    "Xtest = scaler.transform(Xtest)"
   ]
  },
  {
   "cell_type": "code",
   "execution_count": null,
   "metadata": {},
   "outputs": [],
   "source": [
    "regressor = LinearRegression()\n",
    "regressor.fit(Xtrain, ytrain)"
   ]
  },
  {
   "cell_type": "code",
   "execution_count": null,
   "metadata": {},
   "outputs": [],
   "source": [
    "ypred_train = regressor.predict(Xtrain)\n",
    "ypred_test = regressor.predict(Xtest)"
   ]
  },
  {
   "cell_type": "code",
   "execution_count": null,
   "metadata": {},
   "outputs": [],
   "source": [
    "r2_score(ytrain,ypred_train), r2_score(ytest,ypred_test)"
   ]
  },
  {
   "cell_type": "code",
   "execution_count": null,
   "metadata": {},
   "outputs": [],
   "source": [
    "coefficients = pd.concat([pd.DataFrame(X.columns),pd.DataFrame(np.transpose(regressor.coef_))], axis = 1)\n",
    "print(f'коэффициенты{coefficients}')"
   ]
  },
  {
   "cell_type": "code",
   "execution_count": null,
   "metadata": {},
   "outputs": [],
   "source": [
    "regressor2 = Lasso(alpha=10)\n",
    "regressor2.fit(Xtrain, ytrain)\n",
    "\n",
    "ypred2 = regressor2.predict(Xtest)\n",
    "\n",
    "print('Scores:', r2_score(ytest,ypred2), mean_squared_error(ytest,ypred2))\n",
    "print(regressor2.coef_,'\\n')"
   ]
  },
  {
   "cell_type": "code",
   "execution_count": null,
   "metadata": {},
   "outputs": [],
   "source": [
    "n_alphas = 200\n",
    "alphas = np.linspace(0.1, 10, n_alphas)\n",
    "\n",
    "lasso_cv = LassoCV(alphas=alphas, \n",
    "                   cv=3, random_state=17)\n",
    "lasso_cv.fit(X, y)"
   ]
  },
  {
   "cell_type": "code",
   "execution_count": null,
   "metadata": {},
   "outputs": [],
   "source": [
    "lasso_cv.coef_"
   ]
  },
  {
   "cell_type": "code",
   "execution_count": null,
   "metadata": {},
   "outputs": [],
   "source": [
    "lasso_cv.alpha_"
   ]
  },
  {
   "cell_type": "code",
   "execution_count": null,
   "metadata": {},
   "outputs": [],
   "source": [
    "regressor2 = Lasso(alpha=lasso_cv.alpha_)\n",
    "\n",
    "regressor2.fit(Xtrain, ytrain)\n",
    "\n",
    "ypred2_train = regressor2.predict(Xtrain)\n",
    "ypred2_test = regressor2.predict(Xtest)\n",
    "\n",
    "print('Scores:', r2_score(ytrain,ypred2_train), r2_score(ytest,ypred2_test))"
   ]
  },
  {
   "cell_type": "code",
   "execution_count": null,
   "metadata": {},
   "outputs": [],
   "source": [
    "n_alphas = 200\n",
    "ridge_alphas = np.logspace(-2, 6, n_alphas)\n",
    "\n",
    "ridge_cv = RidgeCV(alphas=ridge_alphas, \n",
    "                   scoring='neg_mean_squared_error',\n",
    "                   cv=3)\n",
    "ridge_cv.fit(X, y)"
   ]
  },
  {
   "cell_type": "code",
   "execution_count": null,
   "metadata": {},
   "outputs": [],
   "source": [
    "ridge_cv.alpha_"
   ]
  },
  {
   "cell_type": "code",
   "execution_count": null,
   "metadata": {},
   "outputs": [],
   "source": [
    "regressor3 = Lasso(alpha=ridge_cv.alpha_)\n",
    "\n",
    "regressor3.fit(Xtrain, ytrain)\n",
    "\n",
    "ypred3_train = regressor3.predict(Xtrain)\n",
    "ypred3_test = regressor3.predict(Xtest)\n",
    "\n",
    "print('Scores:', r2_score(ytrain,ypred3_train), r2_score(ytest,ypred3_test))"
   ]
  },
  {
   "cell_type": "code",
   "execution_count": null,
   "metadata": {},
   "outputs": [],
   "source": [
    "regr = ElasticNet(alpha=3.0, l1_ratio=0.5, random_state=None)"
   ]
  },
  {
   "cell_type": "code",
   "execution_count": null,
   "metadata": {},
   "outputs": [],
   "source": [
    "regr.fit(X, y)"
   ]
  },
  {
   "cell_type": "code",
   "execution_count": null,
   "metadata": {},
   "outputs": [],
   "source": [
    "print(regr.coef_)"
   ]
  },
  {
   "cell_type": "code",
   "execution_count": null,
   "metadata": {},
   "outputs": [],
   "source": [
    "print(regr.intercept_)"
   ]
  },
  {
   "attachments": {},
   "cell_type": "markdown",
   "metadata": {},
   "source": [
    "Задание 2"
   ]
  },
  {
   "cell_type": "code",
   "execution_count": null,
   "metadata": {},
   "outputs": [],
   "source": [
    "data = pd.read_csv(r\"C:\\Users\\mkuzo\\Desktop\\Программирование_2 сем\\mag2022\\CL\\term02\\02-Regularization, Normalization\\diet_data.csv\")\n",
    "data.head() "
   ]
  },
  {
   "cell_type": "code",
   "execution_count": null,
   "metadata": {},
   "outputs": [],
   "source": [
    "data.size\n"
   ]
  },
  {
   "cell_type": "code",
   "execution_count": null,
   "metadata": {},
   "outputs": [],
   "source": [
    "data.shape\n"
   ]
  },
  {
   "cell_type": "code",
   "execution_count": null,
   "metadata": {},
   "outputs": [],
   "source": [
    "data.dtypes\n"
   ]
  },
  {
   "cell_type": "code",
   "execution_count": null,
   "metadata": {},
   "outputs": [],
   "source": [
    "data.dtypes.value_counts()\n"
   ]
  },
  {
   "cell_type": "code",
   "execution_count": null,
   "metadata": {},
   "outputs": [],
   "source": [
    "data.info()"
   ]
  },
  {
   "attachments": {},
   "cell_type": "markdown",
   "metadata": {},
   "source": [
    "Много нан = плохо"
   ]
  },
  {
   "cell_type": "code",
   "execution_count": null,
   "metadata": {},
   "outputs": [],
   "source": [
    "data = data.dropna()"
   ]
  },
  {
   "cell_type": "code",
   "execution_count": null,
   "metadata": {},
   "outputs": [],
   "source": [
    "data.info()"
   ]
  },
  {
   "cell_type": "code",
   "execution_count": null,
   "metadata": {},
   "outputs": [],
   "source": [
    "for c in data:\n",
    "    print(c)\n",
    "    print(data[c].unique())"
   ]
  },
  {
   "attachments": {},
   "cell_type": "markdown",
   "metadata": {},
   "source": [
    "Тяжело.. непонятно, что обозначает что.."
   ]
  },
  {
   "cell_type": "code",
   "execution_count": null,
   "metadata": {},
   "outputs": [],
   "source": [
    "data.drop(columns = 'Date', axis = 1 , inplace = True)"
   ]
  },
  {
   "cell_type": "code",
   "execution_count": null,
   "metadata": {},
   "outputs": [],
   "source": [
    "data['cals_per_oz'] = data['cals_per_oz'].astype('float')"
   ]
  },
  {
   "cell_type": "code",
   "execution_count": null,
   "metadata": {},
   "outputs": [],
   "source": [
    "data.info()"
   ]
  },
  {
   "cell_type": "code",
   "execution_count": null,
   "metadata": {},
   "outputs": [],
   "source": [
    "X = data.drop('change', axis=1)\n",
    "y = data['change']"
   ]
  },
  {
   "cell_type": "code",
   "execution_count": null,
   "metadata": {},
   "outputs": [],
   "source": [
    "Xtrain, Xtest, ytrain, ytest = train_test_split(X, y, test_size=0.2)"
   ]
  },
  {
   "cell_type": "code",
   "execution_count": null,
   "metadata": {},
   "outputs": [],
   "source": [
    "scaler = StandardScaler().fit(Xtrain)\n",
    "Xtrain = scaler.transform(Xtrain)\n",
    "Xtest = scaler.transform(Xtest)"
   ]
  },
  {
   "cell_type": "code",
   "execution_count": null,
   "metadata": {},
   "outputs": [],
   "source": [
    "regressor = LinearRegression()\n",
    "regressor.fit(Xtrain, ytrain)"
   ]
  },
  {
   "cell_type": "code",
   "execution_count": null,
   "metadata": {},
   "outputs": [],
   "source": [
    "ypred_train = regressor.predict(Xtrain)\n",
    "ypred_test = regressor.predict(Xtest)"
   ]
  },
  {
   "cell_type": "code",
   "execution_count": null,
   "metadata": {},
   "outputs": [],
   "source": [
    "r2_score(ytrain,ypred_train), r2_score(ytest,ypred_test)"
   ]
  },
  {
   "cell_type": "code",
   "execution_count": null,
   "metadata": {},
   "outputs": [],
   "source": [
    "coefficients = pd.concat([pd.DataFrame(X.columns),pd.DataFrame(np.transpose(regressor.coef_))], axis = 1)\n",
    "print(f'коэффициенты{coefficients}')"
   ]
  },
  {
   "cell_type": "code",
   "execution_count": null,
   "metadata": {},
   "outputs": [],
   "source": [
    "data_1 = pd.DataFrame(data=np.c_[data.drop(columns = 'change', axis = 1), data['change']],\n",
    "                     columns=list(data.drop(columns = 'change', axis = 1)) + ['change'])"
   ]
  },
  {
   "cell_type": "code",
   "execution_count": null,
   "metadata": {},
   "outputs": [],
   "source": [
    "plt.figure(figsize=(9,12))"
   ]
  },
  {
   "cell_type": "code",
   "execution_count": null,
   "metadata": {},
   "outputs": [],
   "source": [
    "corr = data_1.corr()"
   ]
  },
  {
   "cell_type": "code",
   "execution_count": null,
   "metadata": {},
   "outputs": [],
   "source": [
    "g = sns.heatmap(corr,annot=True,linewidths=.5,fmt= '.2f',\\\n",
    "            mask=np.zeros_like(corr, dtype=bool), \\\n",
    "            cmap=sns.diverging_palette(200,300,as_cmap=True))"
   ]
  },
  {
   "attachments": {},
   "cell_type": "markdown",
   "metadata": {},
   "source": [
    "Ничего не нравится..."
   ]
  },
  {
   "cell_type": "code",
   "execution_count": null,
   "metadata": {},
   "outputs": [],
   "source": [
    "data.drop(columns = 'Stone', axis = 1 , inplace = True)"
   ]
  },
  {
   "cell_type": "code",
   "execution_count": null,
   "metadata": {},
   "outputs": [],
   "source": [
    "data.drop(columns = 'five_donuts', axis = 1 , inplace = True)"
   ]
  },
  {
   "cell_type": "code",
   "execution_count": null,
   "metadata": {},
   "outputs": [],
   "source": [
    "data.drop(columns = 'prot', axis = 1 , inplace = True)"
   ]
  },
  {
   "cell_type": "code",
   "execution_count": null,
   "metadata": {},
   "outputs": [],
   "source": [
    "data.drop(columns = 'wine', axis = 1 , inplace = True)"
   ]
  },
  {
   "cell_type": "code",
   "execution_count": null,
   "metadata": {},
   "outputs": [],
   "source": [
    "data.head()"
   ]
  },
  {
   "cell_type": "code",
   "execution_count": null,
   "metadata": {},
   "outputs": [],
   "source": [
    "X = data.drop('change', axis=1)\n",
    "\n",
    "y = data['change']\n",
    "\n",
    "Xtrain, Xtest, ytrain, ytest = train_test_split(X, y, test_size=0.2, random_state=111)\n",
    "\n",
    "scaler = StandardScaler().fit(Xtrain)\n",
    "Xtrain = scaler.transform(Xtrain)\n",
    "Xtest = scaler.transform(Xtest)\n",
    "\n",
    "regressor = LinearRegression()\n",
    "regressor.fit(Xtrain, ytrain)\n",
    "\n",
    "ypred_train = regressor.predict(Xtrain)\n",
    "ypred_test = regressor.predict(Xtest)"
   ]
  },
  {
   "cell_type": "code",
   "execution_count": null,
   "metadata": {},
   "outputs": [],
   "source": [
    "r2_score(ytrain,ypred_train), r2_score(ytest,ypred_test)"
   ]
  },
  {
   "attachments": {},
   "cell_type": "markdown",
   "metadata": {},
   "source": [
    "жуть ^"
   ]
  },
  {
   "cell_type": "code",
   "execution_count": null,
   "metadata": {},
   "outputs": [],
   "source": [
    "coefficients = pd.concat([pd.DataFrame(X.columns),pd.DataFrame(np.transpose(regressor.coef_))], axis = 1)\n",
    "coefficients"
   ]
  },
  {
   "cell_type": "code",
   "execution_count": null,
   "metadata": {},
   "outputs": [],
   "source": [
    "n_alphas = 200\n",
    "alphas = np.linspace(0.1, 10, n_alphas)\n",
    "\n",
    "lasso_cv = LassoCV(alphas=alphas, \n",
    "                   cv=3, random_state=17)\n",
    "lasso_cv.fit(X, y)"
   ]
  },
  {
   "cell_type": "code",
   "execution_count": null,
   "metadata": {},
   "outputs": [],
   "source": [
    "lasso_cv.coef_"
   ]
  },
  {
   "cell_type": "code",
   "execution_count": null,
   "metadata": {},
   "outputs": [],
   "source": [
    "lasso_cv.alpha_"
   ]
  },
  {
   "cell_type": "code",
   "execution_count": null,
   "metadata": {},
   "outputs": [],
   "source": [
    "regressor2 = Lasso(alpha=lasso_cv.alpha_)\n",
    "\n",
    "regressor2.fit(Xtrain, ytrain)\n",
    "\n",
    "ypred2_train = regressor2.predict(Xtrain)\n",
    "ypred2_test = regressor2.predict(Xtest)\n",
    "\n",
    "print('Scores:', r2_score(ytrain,ypred2_train), r2_score(ytest,ypred2_test))"
   ]
  },
  {
   "cell_type": "code",
   "execution_count": null,
   "metadata": {},
   "outputs": [],
   "source": [
    "n_alphas = 200\n",
    "ridge_alphas = np.logspace(-2, 6, n_alphas)\n",
    "\n",
    "ridge_cv = RidgeCV(alphas=ridge_alphas, \n",
    "                   scoring='neg_mean_squared_error',\n",
    "                   cv=3)\n",
    "ridge_cv.fit(X, y)"
   ]
  },
  {
   "cell_type": "code",
   "execution_count": null,
   "metadata": {},
   "outputs": [],
   "source": [
    "ridge_cv.alpha_"
   ]
  },
  {
   "cell_type": "code",
   "execution_count": null,
   "metadata": {},
   "outputs": [],
   "source": [
    "regressor3 = Lasso(alpha=ridge_cv.alpha_)\n",
    "\n",
    "regressor3.fit(Xtrain, ytrain)\n",
    "\n",
    "ypred3_train = regressor3.predict(Xtrain)\n",
    "ypred3_test = regressor3.predict(Xtest)\n",
    "\n",
    "print('Scores:', r2_score(ytrain,ypred3_train), r2_score(ytest,ypred3_test))"
   ]
  },
  {
   "cell_type": "code",
   "execution_count": null,
   "metadata": {},
   "outputs": [],
   "source": [
    "regressor3.coef_"
   ]
  },
  {
   "cell_type": "code",
   "execution_count": null,
   "metadata": {},
   "outputs": [],
   "source": [
    "coefficients = pd.concat([pd.DataFrame(X.columns),pd.DataFrame(np.transpose(regressor3.coef_))], axis = 1)\n",
    "coefficients"
   ]
  },
  {
   "cell_type": "code",
   "execution_count": null,
   "metadata": {},
   "outputs": [],
   "source": [
    "regr = ElasticNet(alpha=3.0, l1_ratio=0.5, random_state=None)"
   ]
  },
  {
   "cell_type": "code",
   "execution_count": null,
   "metadata": {},
   "outputs": [],
   "source": [
    "regr.fit(X, y)"
   ]
  },
  {
   "cell_type": "code",
   "execution_count": null,
   "metadata": {},
   "outputs": [],
   "source": [
    "print(regr.coef_) "
   ]
  },
  {
   "cell_type": "code",
   "execution_count": null,
   "metadata": {},
   "outputs": [],
   "source": [
    "print(regr.intercept_) "
   ]
  },
  {
   "attachments": {},
   "cell_type": "markdown",
   "metadata": {},
   "source": [
    "^^^^^^^^^^^ все плохо...."
   ]
  },
  {
   "attachments": {},
   "cell_type": "markdown",
   "metadata": {},
   "source": [
    "Задание 3"
   ]
  },
  {
   "cell_type": "code",
   "execution_count": 172,
   "metadata": {},
   "outputs": [
    {
     "data": {
      "text/html": [
       "<div>\n",
       "<style scoped>\n",
       "    .dataframe tbody tr th:only-of-type {\n",
       "        vertical-align: middle;\n",
       "    }\n",
       "\n",
       "    .dataframe tbody tr th {\n",
       "        vertical-align: top;\n",
       "    }\n",
       "\n",
       "    .dataframe thead th {\n",
       "        text-align: right;\n",
       "    }\n",
       "</style>\n",
       "<table border=\"1\" class=\"dataframe\">\n",
       "  <thead>\n",
       "    <tr style=\"text-align: right;\">\n",
       "      <th></th>\n",
       "      <th>Country</th>\n",
       "      <th>Year</th>\n",
       "      <th>Status</th>\n",
       "      <th>Life expectancy</th>\n",
       "      <th>Adult Mortality</th>\n",
       "      <th>infant deaths</th>\n",
       "      <th>Alcohol</th>\n",
       "      <th>percentage expenditure</th>\n",
       "      <th>Hepatitis B</th>\n",
       "      <th>Measles</th>\n",
       "      <th>...</th>\n",
       "      <th>Polio</th>\n",
       "      <th>Total expenditure</th>\n",
       "      <th>Diphtheria</th>\n",
       "      <th>HIV/AIDS</th>\n",
       "      <th>GDP</th>\n",
       "      <th>Population</th>\n",
       "      <th>thinness  1-19 years</th>\n",
       "      <th>thinness 5-9 years</th>\n",
       "      <th>Income composition of resources</th>\n",
       "      <th>Schooling</th>\n",
       "    </tr>\n",
       "  </thead>\n",
       "  <tbody>\n",
       "    <tr>\n",
       "      <th>0</th>\n",
       "      <td>Afghanistan</td>\n",
       "      <td>2015</td>\n",
       "      <td>Developing</td>\n",
       "      <td>65.0</td>\n",
       "      <td>263.0</td>\n",
       "      <td>62</td>\n",
       "      <td>0.01</td>\n",
       "      <td>71.279624</td>\n",
       "      <td>65.0</td>\n",
       "      <td>1154</td>\n",
       "      <td>...</td>\n",
       "      <td>6.0</td>\n",
       "      <td>8.16</td>\n",
       "      <td>65.0</td>\n",
       "      <td>0.1</td>\n",
       "      <td>584.259210</td>\n",
       "      <td>33736494.0</td>\n",
       "      <td>17.2</td>\n",
       "      <td>17.3</td>\n",
       "      <td>0.479</td>\n",
       "      <td>10.1</td>\n",
       "    </tr>\n",
       "    <tr>\n",
       "      <th>1</th>\n",
       "      <td>Afghanistan</td>\n",
       "      <td>2014</td>\n",
       "      <td>Developing</td>\n",
       "      <td>59.9</td>\n",
       "      <td>271.0</td>\n",
       "      <td>64</td>\n",
       "      <td>0.01</td>\n",
       "      <td>73.523582</td>\n",
       "      <td>62.0</td>\n",
       "      <td>492</td>\n",
       "      <td>...</td>\n",
       "      <td>58.0</td>\n",
       "      <td>8.18</td>\n",
       "      <td>62.0</td>\n",
       "      <td>0.1</td>\n",
       "      <td>612.696514</td>\n",
       "      <td>327582.0</td>\n",
       "      <td>17.5</td>\n",
       "      <td>17.5</td>\n",
       "      <td>0.476</td>\n",
       "      <td>10.0</td>\n",
       "    </tr>\n",
       "    <tr>\n",
       "      <th>2</th>\n",
       "      <td>Afghanistan</td>\n",
       "      <td>2013</td>\n",
       "      <td>Developing</td>\n",
       "      <td>59.9</td>\n",
       "      <td>268.0</td>\n",
       "      <td>66</td>\n",
       "      <td>0.01</td>\n",
       "      <td>73.219243</td>\n",
       "      <td>64.0</td>\n",
       "      <td>430</td>\n",
       "      <td>...</td>\n",
       "      <td>62.0</td>\n",
       "      <td>8.13</td>\n",
       "      <td>64.0</td>\n",
       "      <td>0.1</td>\n",
       "      <td>631.744976</td>\n",
       "      <td>31731688.0</td>\n",
       "      <td>17.7</td>\n",
       "      <td>17.7</td>\n",
       "      <td>0.470</td>\n",
       "      <td>9.9</td>\n",
       "    </tr>\n",
       "    <tr>\n",
       "      <th>3</th>\n",
       "      <td>Afghanistan</td>\n",
       "      <td>2012</td>\n",
       "      <td>Developing</td>\n",
       "      <td>59.5</td>\n",
       "      <td>272.0</td>\n",
       "      <td>69</td>\n",
       "      <td>0.01</td>\n",
       "      <td>78.184215</td>\n",
       "      <td>67.0</td>\n",
       "      <td>2787</td>\n",
       "      <td>...</td>\n",
       "      <td>67.0</td>\n",
       "      <td>8.52</td>\n",
       "      <td>67.0</td>\n",
       "      <td>0.1</td>\n",
       "      <td>669.959000</td>\n",
       "      <td>3696958.0</td>\n",
       "      <td>17.9</td>\n",
       "      <td>18.0</td>\n",
       "      <td>0.463</td>\n",
       "      <td>9.8</td>\n",
       "    </tr>\n",
       "    <tr>\n",
       "      <th>4</th>\n",
       "      <td>Afghanistan</td>\n",
       "      <td>2011</td>\n",
       "      <td>Developing</td>\n",
       "      <td>59.2</td>\n",
       "      <td>275.0</td>\n",
       "      <td>71</td>\n",
       "      <td>0.01</td>\n",
       "      <td>7.097109</td>\n",
       "      <td>68.0</td>\n",
       "      <td>3013</td>\n",
       "      <td>...</td>\n",
       "      <td>68.0</td>\n",
       "      <td>7.87</td>\n",
       "      <td>68.0</td>\n",
       "      <td>0.1</td>\n",
       "      <td>63.537231</td>\n",
       "      <td>2978599.0</td>\n",
       "      <td>18.2</td>\n",
       "      <td>18.2</td>\n",
       "      <td>0.454</td>\n",
       "      <td>9.5</td>\n",
       "    </tr>\n",
       "  </tbody>\n",
       "</table>\n",
       "<p>5 rows × 22 columns</p>\n",
       "</div>"
      ],
      "text/plain": [
       "       Country  Year      Status  Life expectancy   Adult Mortality  \\\n",
       "0  Afghanistan  2015  Developing              65.0            263.0   \n",
       "1  Afghanistan  2014  Developing              59.9            271.0   \n",
       "2  Afghanistan  2013  Developing              59.9            268.0   \n",
       "3  Afghanistan  2012  Developing              59.5            272.0   \n",
       "4  Afghanistan  2011  Developing              59.2            275.0   \n",
       "\n",
       "   infant deaths  Alcohol  percentage expenditure  Hepatitis B  Measles   ...  \\\n",
       "0             62     0.01               71.279624         65.0      1154  ...   \n",
       "1             64     0.01               73.523582         62.0       492  ...   \n",
       "2             66     0.01               73.219243         64.0       430  ...   \n",
       "3             69     0.01               78.184215         67.0      2787  ...   \n",
       "4             71     0.01                7.097109         68.0      3013  ...   \n",
       "\n",
       "   Polio  Total expenditure  Diphtheria    HIV/AIDS         GDP  Population  \\\n",
       "0    6.0               8.16         65.0        0.1  584.259210  33736494.0   \n",
       "1   58.0               8.18         62.0        0.1  612.696514    327582.0   \n",
       "2   62.0               8.13         64.0        0.1  631.744976  31731688.0   \n",
       "3   67.0               8.52         67.0        0.1  669.959000   3696958.0   \n",
       "4   68.0               7.87         68.0        0.1   63.537231   2978599.0   \n",
       "\n",
       "    thinness  1-19 years   thinness 5-9 years  \\\n",
       "0                   17.2                 17.3   \n",
       "1                   17.5                 17.5   \n",
       "2                   17.7                 17.7   \n",
       "3                   17.9                 18.0   \n",
       "4                   18.2                 18.2   \n",
       "\n",
       "   Income composition of resources  Schooling  \n",
       "0                            0.479       10.1  \n",
       "1                            0.476       10.0  \n",
       "2                            0.470        9.9  \n",
       "3                            0.463        9.8  \n",
       "4                            0.454        9.5  \n",
       "\n",
       "[5 rows x 22 columns]"
      ]
     },
     "execution_count": 172,
     "metadata": {},
     "output_type": "execute_result"
    }
   ],
   "source": [
    "data = pd.read_csv(r\"C:\\Users\\mkuzo\\Desktop\\Программирование_2 сем\\mag2022\\CL\\term02\\02-Regularization, Normalization\\Life Expectancy Data.csv\")\n",
    "data.head() "
   ]
  },
  {
   "cell_type": "code",
   "execution_count": 173,
   "metadata": {},
   "outputs": [
    {
     "data": {
      "text/plain": [
       "64636"
      ]
     },
     "execution_count": 173,
     "metadata": {},
     "output_type": "execute_result"
    }
   ],
   "source": [
    "data.size"
   ]
  },
  {
   "cell_type": "code",
   "execution_count": 174,
   "metadata": {},
   "outputs": [
    {
     "data": {
      "text/plain": [
       "(2938, 22)"
      ]
     },
     "execution_count": 174,
     "metadata": {},
     "output_type": "execute_result"
    }
   ],
   "source": [
    "data.shape"
   ]
  },
  {
   "cell_type": "code",
   "execution_count": 175,
   "metadata": {},
   "outputs": [
    {
     "data": {
      "text/plain": [
       "Country                             object\n",
       "Year                                 int64\n",
       "Status                              object\n",
       "Life expectancy                    float64\n",
       "Adult Mortality                    float64\n",
       "infant deaths                        int64\n",
       "Alcohol                            float64\n",
       "percentage expenditure             float64\n",
       "Hepatitis B                        float64\n",
       "Measles                              int64\n",
       " BMI                               float64\n",
       "under-five deaths                    int64\n",
       "Polio                              float64\n",
       "Total expenditure                  float64\n",
       "Diphtheria                         float64\n",
       " HIV/AIDS                          float64\n",
       "GDP                                float64\n",
       "Population                         float64\n",
       " thinness  1-19 years              float64\n",
       " thinness 5-9 years                float64\n",
       "Income composition of resources    float64\n",
       "Schooling                          float64\n",
       "dtype: object"
      ]
     },
     "execution_count": 175,
     "metadata": {},
     "output_type": "execute_result"
    }
   ],
   "source": [
    "data.dtypes"
   ]
  },
  {
   "cell_type": "code",
   "execution_count": 176,
   "metadata": {},
   "outputs": [
    {
     "data": {
      "text/plain": [
       "float64    16\n",
       "int64       4\n",
       "object      2\n",
       "dtype: int64"
      ]
     },
     "execution_count": 176,
     "metadata": {},
     "output_type": "execute_result"
    }
   ],
   "source": [
    "data.dtypes.value_counts()"
   ]
  },
  {
   "cell_type": "code",
   "execution_count": 177,
   "metadata": {},
   "outputs": [
    {
     "name": "stdout",
     "output_type": "stream",
     "text": [
      "<class 'pandas.core.frame.DataFrame'>\n",
      "RangeIndex: 2938 entries, 0 to 2937\n",
      "Data columns (total 22 columns):\n",
      " #   Column                           Non-Null Count  Dtype  \n",
      "---  ------                           --------------  -----  \n",
      " 0   Country                          2938 non-null   object \n",
      " 1   Year                             2938 non-null   int64  \n",
      " 2   Status                           2938 non-null   object \n",
      " 3   Life expectancy                  2928 non-null   float64\n",
      " 4   Adult Mortality                  2928 non-null   float64\n",
      " 5   infant deaths                    2938 non-null   int64  \n",
      " 6   Alcohol                          2744 non-null   float64\n",
      " 7   percentage expenditure           2938 non-null   float64\n",
      " 8   Hepatitis B                      2385 non-null   float64\n",
      " 9   Measles                          2938 non-null   int64  \n",
      " 10   BMI                             2904 non-null   float64\n",
      " 11  under-five deaths                2938 non-null   int64  \n",
      " 12  Polio                            2919 non-null   float64\n",
      " 13  Total expenditure                2712 non-null   float64\n",
      " 14  Diphtheria                       2919 non-null   float64\n",
      " 15   HIV/AIDS                        2938 non-null   float64\n",
      " 16  GDP                              2490 non-null   float64\n",
      " 17  Population                       2286 non-null   float64\n",
      " 18   thinness  1-19 years            2904 non-null   float64\n",
      " 19   thinness 5-9 years              2904 non-null   float64\n",
      " 20  Income composition of resources  2771 non-null   float64\n",
      " 21  Schooling                        2775 non-null   float64\n",
      "dtypes: float64(16), int64(4), object(2)\n",
      "memory usage: 505.1+ KB\n"
     ]
    }
   ],
   "source": [
    "data.info()"
   ]
  },
  {
   "cell_type": "code",
   "execution_count": 178,
   "metadata": {},
   "outputs": [
    {
     "name": "stdout",
     "output_type": "stream",
     "text": [
      "Country\n",
      "['Afghanistan' 'Albania' 'Algeria' 'Angola' 'Antigua and Barbuda'\n",
      " 'Argentina' 'Armenia' 'Australia' 'Austria' 'Azerbaijan' 'Bahamas'\n",
      " 'Bahrain' 'Bangladesh' 'Barbados' 'Belarus' 'Belgium' 'Belize' 'Benin'\n",
      " 'Bhutan' 'Bolivia (Plurinational State of)' 'Bosnia and Herzegovina'\n",
      " 'Botswana' 'Brazil' 'Brunei Darussalam' 'Bulgaria' 'Burkina Faso'\n",
      " 'Burundi' \"Côte d'Ivoire\" 'Cabo Verde' 'Cambodia' 'Cameroon' 'Canada'\n",
      " 'Central African Republic' 'Chad' 'Chile' 'China' 'Colombia' 'Comoros'\n",
      " 'Congo' 'Cook Islands' 'Costa Rica' 'Croatia' 'Cuba' 'Cyprus' 'Czechia'\n",
      " \"Democratic People's Republic of Korea\"\n",
      " 'Democratic Republic of the Congo' 'Denmark' 'Djibouti' 'Dominica'\n",
      " 'Dominican Republic' 'Ecuador' 'Egypt' 'El Salvador' 'Equatorial Guinea'\n",
      " 'Eritrea' 'Estonia' 'Ethiopia' 'Fiji' 'Finland' 'France' 'Gabon' 'Gambia'\n",
      " 'Georgia' 'Germany' 'Ghana' 'Greece' 'Grenada' 'Guatemala' 'Guinea'\n",
      " 'Guinea-Bissau' 'Guyana' 'Haiti' 'Honduras' 'Hungary' 'Iceland' 'India'\n",
      " 'Indonesia' 'Iran (Islamic Republic of)' 'Iraq' 'Ireland' 'Israel'\n",
      " 'Italy' 'Jamaica' 'Japan' 'Jordan' 'Kazakhstan' 'Kenya' 'Kiribati'\n",
      " 'Kuwait' 'Kyrgyzstan' \"Lao People's Democratic Republic\" 'Latvia'\n",
      " 'Lebanon' 'Lesotho' 'Liberia' 'Libya' 'Lithuania' 'Luxembourg'\n",
      " 'Madagascar' 'Malawi' 'Malaysia' 'Maldives' 'Mali' 'Malta'\n",
      " 'Marshall Islands' 'Mauritania' 'Mauritius' 'Mexico'\n",
      " 'Micronesia (Federated States of)' 'Monaco' 'Mongolia' 'Montenegro'\n",
      " 'Morocco' 'Mozambique' 'Myanmar' 'Namibia' 'Nauru' 'Nepal' 'Netherlands'\n",
      " 'New Zealand' 'Nicaragua' 'Niger' 'Nigeria' 'Niue' 'Norway' 'Oman'\n",
      " 'Pakistan' 'Palau' 'Panama' 'Papua New Guinea' 'Paraguay' 'Peru'\n",
      " 'Philippines' 'Poland' 'Portugal' 'Qatar' 'Republic of Korea'\n",
      " 'Republic of Moldova' 'Romania' 'Russian Federation' 'Rwanda'\n",
      " 'Saint Kitts and Nevis' 'Saint Lucia' 'Saint Vincent and the Grenadines'\n",
      " 'Samoa' 'San Marino' 'Sao Tome and Principe' 'Saudi Arabia' 'Senegal'\n",
      " 'Serbia' 'Seychelles' 'Sierra Leone' 'Singapore' 'Slovakia' 'Slovenia'\n",
      " 'Solomon Islands' 'Somalia' 'South Africa' 'South Sudan' 'Spain'\n",
      " 'Sri Lanka' 'Sudan' 'Suriname' 'Swaziland' 'Sweden' 'Switzerland'\n",
      " 'Syrian Arab Republic' 'Tajikistan' 'Thailand'\n",
      " 'The former Yugoslav republic of Macedonia' 'Timor-Leste' 'Togo' 'Tonga'\n",
      " 'Trinidad and Tobago' 'Tunisia' 'Turkey' 'Turkmenistan' 'Tuvalu' 'Uganda'\n",
      " 'Ukraine' 'United Arab Emirates'\n",
      " 'United Kingdom of Great Britain and Northern Ireland'\n",
      " 'United Republic of Tanzania' 'United States of America' 'Uruguay'\n",
      " 'Uzbekistan' 'Vanuatu' 'Venezuela (Bolivarian Republic of)' 'Viet Nam'\n",
      " 'Yemen' 'Zambia' 'Zimbabwe']\n",
      "Year\n",
      "[2015 2014 2013 2012 2011 2010 2009 2008 2007 2006 2005 2004 2003 2002\n",
      " 2001 2000]\n",
      "Status\n",
      "['Developing' 'Developed']\n",
      "Life expectancy \n",
      "[65.  59.9 59.5 59.2 58.8 58.6 58.1 57.5 57.3 57.  56.7 56.2 55.3 54.8\n",
      " 77.8 77.5 77.2 76.9 76.6 76.2 76.1 75.3 75.9 74.2 73.5 73.  72.8 73.3\n",
      " 73.6 72.6 75.6 75.4 75.1 74.9 74.7 74.4 74.1 73.8 73.4 72.9 72.3 71.7\n",
      " 71.6 71.4 71.3 52.4 51.7 51.1 56.  51.  49.6 49.1 48.7 48.2 47.7 47.4\n",
      " 47.1 46.8 46.5 45.7 45.3 76.4 75.7 75.2 75.  74.8 74.6 74.  76.3 76.\n",
      " 75.5 73.9 73.2 72.7 72.  82.8 82.7 82.5 82.3 82.  81.9 81.7 81.3 81.2\n",
      " 81.  86.  83.  79.9 79.5 81.5 81.4 81.1 88.  84.  79.8 79.4 79.3 78.8\n",
      " 78.7 78.6 78.1 72.5 72.2 71.9 71.1 78.  69.2 68.4 67.8 67.5 66.6 74.5\n",
      " 73.1 76.8 76.7 76.5 75.8 71.8 71.  77.  69.9 69.5 69.1 68.6 68.2 67.3\n",
      " 66.8 66.3 65.8 65.3 73.7 70.  69.8 68.9 68.1 67.7 67.2 68.  89.  87.\n",
      " 80.  78.9 78.3 77.6 69.4 69.6 69.  68.7 68.5 68.3 60.  59.7 59.3 59.1\n",
      " 58.7 58.4 57.6 57.1 56.8 56.5 56.1 55.8 55.6 55.5 55.4 67.9 67.4 67.\n",
      " 66.5 64.2 63.3 62.5 61.7 62.  69.3 66.2 65.7 65.1 64.5 63.9 62.6 77.4\n",
      " 63.4 62.2 61.1 56.9 48.1 46.4 46.  46.7 47.8 77.7 77.1 74.3 72.1 59.\n",
      " 54.3 53.3 51.6 59.6 58.  57.4 54.1 53.4 52.6 51.9 51.5 51.3 52.8 52.3\n",
      " 52.  54.  49.9 49.4 48.  47.9 72.4 66.1 65.6 64.1 62.9 61.5 63.  58.5\n",
      " 57.7 56.4 55.9 54.2 53.6 52.1 51.8 51.4 82.2 81.8 81.6 85.  79.7 79.1\n",
      " 52.5 53.  49.8 49.2 48.6 47.6 46.3 45.9 45.6 53.1 52.2 51.2 48.5 48.4\n",
      " 79.6 78.4 77.9 77.3 71.5 63.5 63.2 61.8 61.3 61.  66.  59.8 64.7 63.7\n",
      " 59.4 58.2 53.2 52.7 52.9  nan 79.2 79.  78.5 78.2 67.6 65.4 58.3 57.9\n",
      " 56.3 55.7 55.  53.5 62.7 69.7 71.2 68.8 54.4 53.8 64.4 64.  63.6 62.1\n",
      " 61.4 64.8 57.2 82.4 65.5 64.6 62.8 62.3 61.6 56.6 62.4 61.9 61.2 58.9\n",
      " 57.8 54.7 53.9 65.9 65.2 63.1 36.3 82.1 66.4 66.9 66.7 83.7 83.5 83.3\n",
      " 82.6 64.9 64.3 67.1 53.7 46.2 44.5 44.8 45.5 49.3 50.  63.8 45.1 44.6\n",
      " 44.  43.5 43.1 49.5 49.  55.1 55.2 54.5 48.3 49.7 48.9 44.3 43.3 42.3\n",
      " 41.5 41.  39.  83.1 82.9 54.9 83.4 83.2 54.6 48.8 46.6 43.8 45.4]\n",
      "Adult Mortality\n",
      "[263. 271. 268. 272. 275. 279. 281. 287. 295. 291. 293.   3. 316. 321.\n",
      "  74.   8.  84.  86.  88.  91.   1.   9.  99.  15.  17.  18.  14.  11.\n",
      "  19. 112. 113. 116. 119. 123. 126. 129. 132. 136. 146. 145. 335. 348.\n",
      " 355. 358. 361. 365. 369. 371. 375. 381. 382. 386. 388. 391.  44.  48.\n",
      "  13. 131. 133. 134. 138. 142. 144. 147. 149. 151. 153. 154. 156. 118.\n",
      "  12. 121. 127. 137. 128. 141.  59.   6.  61.  63.  64.  66.  67.  69.\n",
      "  71.  73.  75.  78.  65.  68.   7.  77.  76.  81.  85.  92.  96. 125.\n",
      " 162.  16. 172. 167. 161. 168. 171. 174. 189. 192.  79.  83.  87. 135.\n",
      " 152. 155. 158. 164. 173.  98. 111. 115. 117. 196. 199.  23. 194. 232.\n",
      " 222. 226. 224. 243. 252. 247. 253. 262. 254.  89.  95. 175. 177. 188.\n",
      " 186. 184. 181. 191. 197.  21. 249. 251. 259. 278. 283. 284. 285. 211.\n",
      " 216. 219. 223. 225. 228. 234. 238. 245. 273. 282.  29. 312. 198.  22.\n",
      "  27.  94.  97. 256. 286. 325. 349. 393. 427. 436. 491. 566. 652. 693.\n",
      " 699. 679. 647. 148. 157. 159. 163. 176. 179. 183.  93. 139.  26. 288.\n",
      "  32. 313. 323. 332. 338. 344. 297.  33.  35. 378. 387. 385. 397.  47.\n",
      " 412. 415. 419. 417. 426. 437. 443. 452. 466. 472. 473. 467. 461. 114.\n",
      " 122. 124. 195.  24. 274. 357. 366. 364.  37. 373. 395. 394.   4.  41.\n",
      "  72.  82. 451. 439. 446. 453. 477. 495.  56. 511. 512.  51.  58.  54.\n",
      "  49. 356. 362. 367. 414.  46.  45.  43. 143. 165. 227. 233. 237. 241.\n",
      " 246. 255. 266. 269. 267. 298. 314. 354. 368. 424. 416.  nan  52.  53.\n",
      "  57.  62. 166. 258. 277. 292. 299.  36. 341.  34. 346. 289. 296.  39.\n",
      " 318. 326. 322. 178.  28. 214. 213. 215. 218. 327. 337. 339. 336. 334.\n",
      " 261. 311. 329. 342. 343. 345. 593. 328. 363. 372.   2. 221. 229. 276.\n",
      " 294.  31. 315. 257.  38. 169. 187. 182. 193. 317. 217. 244. 682. 185.\n",
      "   5.  55. 236. 235. 432. 434. 428. 212. 265. 484. 522. 518. 513. 527.\n",
      " 592. 633. 654. 675. 666. 648. 622. 586. 543.  42. 333. 248. 377. 441.\n",
      " 462. 525. 559. 587. 615. 613. 599. 588.  25. 231. 425. 429. 239. 242.\n",
      " 431. 483. 471. 374. 376. 396. 331. 438. 413. 463. 411. 418. 433. 464.\n",
      " 496. 519. 533. 352. 347. 449. 486. 498. 497. 485. 459. 359. 383. 564.\n",
      " 568. 536. 351. 523. 539. 554. 454. 457. 487. 526. 578. 611. 614. 399.\n",
      " 632. 717. 723. 715. 686. 665.]\n",
      "infant deaths\n",
      "[  62   64   66   69   71   74   77   80   82   84   85   87   88    0\n",
      "    1   21   20   19   67   72   75   78   81   90   92   94   95   96\n",
      "   97    8    9   10   11   12    5    6    7   98  104  111  118  126\n",
      "  135  144  154  164  174  185  196  207  219  231   25   13   14   15\n",
      "    2   42   44   46   49   51   54   57   61   65   70  103   38   39\n",
      "   40   41   43   45   47   48   22   23   24   58   59   60   63   16\n",
      "   17   18   27   50   53   56  157  171  201  215  248  266  285  307\n",
      "  332  360  391  422  457  490  236  237  238  239  235  233  232  229\n",
      "  227  226   55    3    4  136  140  145  150  156  162  169  177  186\n",
      "  206  217  228  246  253   37   26   28   29   30   31   32   33   34\n",
      "   35   36  910  957 1000 1100 1200 1300 1400 1500 1600 1700 1800  114\n",
      "  119  124  129  134  138  143  149  159  163  173  182  187   68   76\n",
      "   52   93   73  483  498  505  513  521  527  536  542  549  556  563\n",
      "  567  571  574  576  352  359  365  369  371  372  367  364  366  377\n",
      "  385   79   99  109  112  115  116   86   89   91  100  106  110]\n",
      "Alcohol\n",
      "[0.01 0.03 0.02 ... 2.44 3.56 4.57]\n",
      "percentage expenditure\n",
      "[71.27962362 73.52358168 73.21924272 ... 29.81456607 34.26216876\n",
      "  8.7174087 ]\n",
      "Hepatitis B\n",
      "[65. 62. 64. 67. 68. 66. 63. 99. 98. 97. 96. 95. 94. 91.  9.  8. 83. 81.\n",
      " nan 77. 75. 72. 61. 69. 73. 85. 84. 88. 93. 89. 78. 55. 92. 86. 44. 33.\n",
      " 74. 52. 49.  5. 51. 21. 45. 11. 87. 18. 56.  7.  6. 76. 82. 79. 15. 36.\n",
      " 48.  1.  4. 42. 28. 14. 47. 23. 46. 37. 39. 24. 17. 27. 25. 16.  2. 35.\n",
      " 29. 26. 54. 57. 38. 59. 71. 43. 58. 41. 31. 12. 32. 22. 53. 19.]\n",
      "Measles \n",
      "[  1154    492    430   2787   3013   1989   2861   1599   1141   1990\n",
      "   1296    466    798   2486   8762   6532      0      9     28     10\n",
      "     22     68      6      7      8     16     18    662     63     25\n",
      "    112    103    107    217    944   2302   3289  15374   5862   2686\n",
      "    118  11699   8523   4458   1449   1190   2807    265   1014    765\n",
      "    258     29   1196  11945   9046   2219      1      2      3     17\n",
      "     33     13    137   2281   1783      4     40     69     15     74\n",
      "    340    158    199    190     70    104     65     11     91     32\n",
      "    141    108    309    117     36     52     49    448     20     23\n",
      "     90    164      5    222   1238    827   1978   4353    574    210\n",
      "     46     12    240    289    237   1986   5625    788    718   2660\n",
      "   2924   6192  25934   9743   4067   3484   4414   5098     64     50\n",
      "    149     21     14     45     47     39    109    576     98     26\n",
      "     61     44     83     55    786    637    288    426    392   1461\n",
      "    928    341    176    262   1588   5859   4244     27    756    418\n",
      "    122   1677   3000    166     43    853    184     59   2672    214\n",
      "    876    220     57     24     42    157  22004   2249     99    343\n",
      "    375   7362    860   2511  54118    395    125    253     77   2946\n",
      "   1744   4174   6074    129    495    305    173    784    224   1016\n",
      "  18363     48    628    441    183    115   3466   4770   5882   5790\n",
      "   5729    722   1156   4779   4211    394    188    264    352    653\n",
      "   1361   3761  12237   1809    831    760    609    504    251    100\n",
      "    196    605    358    899   1448  23934  14629    195    803     62\n",
      "    101     34    206    150    596    679    471   1233    652    938\n",
      "   2837   3207   1275    226    120   8650    194    165   1594  10324\n",
      "  15801   7277  24908   3546  42361  52628  26883   6183   9943  38159\n",
      "  52461 131441 109023  99602 124219  70549  71879  58341  88962  71093\n",
      "    139     85    912   1359     71    124    260    315     84    126\n",
      "    146   3524   3712   2788   2152   1678     51     54     19     30\n",
      "   3550   5020  33711  88381  72029 133802   5407  12461  55577  80123\n",
      " 182485  44934  21956  30466   8072   8282    709    143    298     37\n",
      "     79    113     72    257   5432   1314    405    245    608    668\n",
      "   1684    953     80   2150   2633   1250    321     78    436     38\n",
      "   1339    198    127     82    128    376    460    204    789  17745\n",
      "  12739   5253   4347   3255   4235   1176   3511   1446   1451    357\n",
      "     73    228   3332   2366   1660    136    304    267    272  14949\n",
      "   5048   1541    604   4448   5185  10000    110   5129    119    336\n",
      "    431   3188   7872     31     56    334   1356   6847    216     35\n",
      "   2464    443   1771   1607    780    917    567   2307    778    121\n",
      "    779   4657   6024    319   1613    641    420    435     60   1939\n",
      "  12289  13476  23068    243    175     53     89   2497   2151   7408\n",
      "  11294    153   3526   1158    159    992  90387  79563  13822  18668\n",
      "  33634  31458  56188  44258  41144  64185  36711  55443  47147  40044\n",
      "  51780  38835  15099  12943   8419  15489  21893  18869  20818  15369\n",
      "  19456  20422  15853  29171  24457  14492   3825   3344    615    189\n",
      "    332    538    133  11644   9554   9582  11874   1433   1317    669\n",
      "  30328   5494    230    474    908   9081   4088    726    285     87\n",
      "     95    584    241    211    931    539    116   5189    372    351\n",
      "   1617    439    135    599  10982   9385   1457    462    229    434\n",
      "    450    741  11015    520   8752   8286  33812  22552  22497     41\n",
      "     76    526  16118   2204     94    354   2395   1218   1282   1516\n",
      "   1847    766  11304  21002  17779    318    339    174     58    295\n",
      "   1491   1810   2070   1761    373    956    618    213    516    179\n",
      "    172   2488    660   1060    279   2200    142    131   1379   5977\n",
      "    320    329    292   2771   3890    633  35558  62233  10795   9357\n",
      "  35256 118712   1116    167     92   1318    221   1868   1569    564\n",
      "   1407    632    408   2198   6187   1395     75    926    215    290\n",
      "   1719   2939    232    717   4464   1578    234   1292    322   5039\n",
      "   3611    883   1398    777    140  20359   1205  10677    925    982\n",
      "    834   1455   2248   1217   6399  10841   6000   2724   7368    145\n",
      "    177   2321  12598   9396  28898   7155   7085   7375   1010   2175\n",
      "   2046    333   1088    314   1329    830    736   2519    845    212\n",
      "    477   1028     86   3138   4076   1278    416    469   1279   1861\n",
      "   3362   2359   2089   1415   2838   5023  12074  13344   6749  10849\n",
      "   9397   2632   1019    280    597     66   7693   1142   1224    771\n",
      "    801    282   2183  63057  54190  31584  61208  21319  12423   6855\n",
      "  52852   6447  18843   8491   1272   9960   2613    704 110927  31521\n",
      " 141258  42007 168107 212183    386   1370   8749   8046   4386   4321\n",
      "    863   1129   2801   7641   2981   4248   4740   3903   3849   2064\n",
      "   2299   1222   1385   3863  17620   4023   7135    619  58848   2920\n",
      "   1536   6538   6368   1469    530   3025  10511   7003   7360   7120\n",
      "    160    361    144    442    114  23060  32647   4929    457    687\n",
      "   1159   7450   4189    193    353   3196   5043    843   4711   2339\n",
      "   2123    629   1147    454   2444   3291    580   2072   4800    494\n",
      "   1064   2738    896   2095    219    154   1164    294    362   4648\n",
      "    807   1880   1208    311    155    428    999   1519  18184  24789\n",
      "   5839    383    370    201    607   1006    678   1865   1089    586\n",
      "    568    649   3575    138    148     96   7497  10229   3173   9983\n",
      "  17298   1081   1149  12008   8257   9559   3571   3965  12499   5857\n",
      "     81    244   1043   1166   1459    878    525   1952   1256   1204\n",
      "   3802    302    297    256     67    152   1568   1686   2107  16527\n",
      "   3585    676   2813   5616    680    327   1374   9562   4381   4529\n",
      "   4362   2875    313    350    621    958   2022   1015    700    594\n",
      "    740    403    517   2144    927    192   2641   5197   3156   2583\n",
      "   6071   7790   3893   3588   4165   4519  10315   7319   4074    701\n",
      "    763    203    577    238    187    425    363   1833   3578    231\n",
      "    342    565   7405    349    111   6200   8927   5844   7823  30509\n",
      "  16244    478   7878   2027   3312   1313   1601   1319   3776   5736\n",
      "  29429  49871  48543  42554    105  12746   1333   1005  42724   2392\n",
      "    411   7587  16970    817    347    344    132   1919   2092   1112\n",
      "   1212   1445   1022    764     88    185   1668   1622   1574   3413\n",
      "   7726   2362   1419   1673   5131  11847  14649    667    476    823\n",
      "    737  15033   1123    578    750   2809   6582    410   2297   6755\n",
      "  12058  16512    468    815    400   2177   2676    510    130   8079\n",
      "   6285  12708   8536    890    485  13234  15754    535    459    881\n",
      "  25036  16997  30930   9696    242    998    529   1483]\n",
      " BMI \n",
      "[19.1 18.6 18.1 17.6 17.2 16.7 16.2 15.7 15.2 14.7 14.2 13.8 13.4 13.\n",
      " 12.6 12.2 58.  57.2 56.5 55.8 55.1 54.3 53.5 52.6 51.7  5.8 49.9 48.9\n",
      " 47.9 46.9 46.  45.  59.5 58.4 56.1 55.  53.9 52.8 51.8 49.8 47.  46.1\n",
      " 45.3 44.4 23.3 22.7 22.1 21.5 21.   2.4 19.8 19.3 18.8 18.2 17.7 16.8\n",
      " 16.3 15.8 15.4 47.7 46.4 45.7 45.1 43.8 43.2 42.6 42.  41.4  4.8  4.1\n",
      " 39.5 38.9 38.2 62.8 62.2 61.6 61.   6.4 59.8 59.2 58.6 57.5 56.9 56.3\n",
      " 55.7 54.6 54.  54.9 54.1 53.3 51.9 51.2  5.7  5.1 49.7 49.2 48.8 48.4\n",
      " 48.1 47.8 47.4 47.1 66.6 66.1 65.5 65.  64.4 63.9 63.4 62.9 62.5 62.\n",
      " 61.5  6.9  6.3 59.6 59.  58.2 57.6 57.1 56.6 55.2 54.7 54.2 53.7 53.2\n",
      " 52.7 52.2  5.6 52.5 51.5 48.  47.3 46.6 45.9 44.7 44.2 43.6 43.1 42.1\n",
      " 64.5 63.8 63.2 62.6 61.3  6.7  6.1 59.4 58.7 58.1 57.4 56.7 56.  54.4\n",
      " 63.6  6.8 59.3 58.5 56.8 55.6 54.8 54.5 18.3 17.  16.4 14.6 14.  13.5\n",
      " 12.5 12.  11.6 11.2  1.8  1.4 53.  51.4 46.2 45.4 44.6 43.  62.3 61.7\n",
      " 61.1  6.5 59.9 57.7 56.2 55.3 63.7 63.  61.9  6.6  6.2  5.9 49.3 48.5\n",
      " 46.3 25.7 25.2 24.6 24.1 23.5 23.  22.5 22.   2.5  2.1 19.7 19.2 18.4\n",
      " 24.5 23.6 21.9 21.1  2.3 19.5 18.  17.4 16.1 15.5 14.9 14.4 13.9 48.6\n",
      " 46.7 44.  43.3 53.1 52.1 51.   5.5 49.4 48.2 47.6 37.9 37.3 36.8 36.2\n",
      " 35.7 35.2 34.7 34.2 33.7 33.2 32.7 32.2 31.6 31.1  3.5 29.9 53.6 52.\n",
      " 51.1  5.3 44.5 43.7 41.2  4.2 39.2 37.2 31.2  3.1 29.1 28.  27.  26.1\n",
      " 65.7 65.1 63.3 62.7 62.1 59.7 59.1 57.  19.4 17.1 16.6 15.6 15.1 13.7\n",
      " 13.3 12.9 18.7 14.8 14.5 14.1 12.8 27.4 26.8 26.2 25.6 25.  24.4 23.8\n",
      " 23.2 22.6  2.9 19.9 31.3 29.7 29.  28.2 27.5 25.5 24.9 24.3 23.7 19.6\n",
      " 18.9 15.9 15.3 14.3 13.1 12.4 12.1 28.4 27.8 27.2 26.6 26.  25.4 22.8\n",
      " 22.3 21.8 21.3 67.  66.4 65.8 65.3 64.7 64.1  6.  57.8 21.6 21.2  2.7\n",
      "  2.2 19.  17.9 17.5 16.5 63.1 61.8 61.2 55.4 32.9 31.9  3.9  3.  28.1\n",
      " 27.3 26.5 23.4 57.9 56.4 51.3 49.  47.5 24.2  2.6 17.3 23.9 21.7 82.8\n",
      " 55.5 53.4 52.4 48.3 61.4 53.8  5.4 58.3 57.3 65.6 64.  32.4 31.8  3.8\n",
      "  3.3 29.2 28.7 27.7 26.7 17.8 16.9 58.8 55.9 35.  34.4 33.8 31.7  3.6\n",
      "  3.2 29.8 29.4 28.6 58.9 47.2 44.1  5.  46.5 45.8 44.3 52.9 52.3 24.\n",
      " 16.  13.6 13.2 12.3  5.2 36.3 35.8 34.6 34.1 33.5 33.  31.4 24.8 22.2\n",
      " 18.5 22.4 66.5 66.  65.4 64.9 64.3 62.4 45.6 43.9 42.4 41.8 41.1  4.5\n",
      " 39.9 39.4 38.8 37.7 45.2 41.7  4.4  2.8 26.3 23.1 41.6  4.9  4.3 39.6\n",
      " 39.  38.4 37.8 37.1 36.4  4.7 38.5 37.5 36.5 35.6 34.8 34.  46.8 43.5\n",
      " 42.8 64.8 64.2 11.8 11.4 24.7 22.9 45.5 44.9 49.5 64.6 42.5 26.9 26.4\n",
      " 25.9 44.8 77.6 77.1 76.7 76.2 75.7 75.2 74.6 74.1 73.4 72.8 72.1 71.4\n",
      "  7.6 69.7 68.8 67.9  7.8  7.2 69.5 69.  68.4 67.5 67.1 66.7 66.3 65.9\n",
      " 42.2 38.  37.  36.  12.7 63.5 32.6 32.  28.8 28.3 27.9  2.  15.   4.6\n",
      " 37.4 35.3 33.4 32.5  3.7 25.1 69.6 69.2 68.  67.6 81.6 33.3 32.8 32.3\n",
      " 25.8 25.3 69.4 68.7 68.1 65.2  nan 41.3 39.8 39.1 49.1 34.9 31.  87.3\n",
      " 11.9 66.9 77.3 83.3 43.4 42.7 41.9 69.3 67.7  3.4 29.5 48.7 21.4 42.9\n",
      " 41.  74.7 74.3 73.8 72.9 72.5 72.   7.9  7.3 68.9 68.2 67.4 29.3 28.5\n",
      " 67.3 35.5 27.6 27.1 32.1 31.5 29.6 28.9 51.6 38.7 36.6 35.9 33.6 74.8\n",
      " 73.3 72.7 71.5  7.1 68.6 67.8 66.2 39.3 37.6  4.  38.1 79.3 69.1 11.3\n",
      "  1.9  1.   9.6  9.2 35.1 34.5 33.9]\n",
      "under-five deaths \n",
      "[  83   86   89   93   97  102  106  110  113  116  118  120  122    0\n",
      "    1   24   23   22   25   98  101  105  115  121  127  133  138  143\n",
      "  148  152  155  157  159  160    9   10   11   12   13   14    2    6\n",
      "    7    8  130  139  150  161  173  186  201  215  231  247  264  280\n",
      "  298  316   39   40   15   16   17   18   19   20    3    4   47   49\n",
      "   52   54   57   61   64   68   73   79   85  100  109   63   66   71\n",
      "   74   77   80   91   92   31   32   33   34   35   36   37   38   41\n",
      "   81   82   84   87   90   94   95   21   26   29   76   99   78   75\n",
      "  183  198  216  233  251  268  288  308  332  360  392  427  467  511\n",
      "  558  608  312  314  317  319  321  323  324  326  327  329  330  331\n",
      "   60   62   65   70   72    5  194  202  211  221  243  256  270  286\n",
      "  304  342  377  404   55   56   58   59   42   43   44   46   48   51\n",
      "   53   27   28 1100 1200 1300 1400 1500 1600 1700 1800 1900 2000 2100\n",
      " 2200 2300 2400 2500  136  142  154  167  174  181  188  237  222  229\n",
      "   30  104  108  112   45   50   88   96  103  111  117  124  132   69\n",
      "  114  128  747  759  773  788  802  817  832  848  863  879  893  907\n",
      "  918  928  936  943  433  442  450  456  459  461  460  458  466  474\n",
      "  483  495  119  137  145  164  187  191  126  131  135  141  149  166]\n",
      "Polio\n",
      "[ 6. 58. 62. 67. 68. 66. 63. 64.  5. 41. 36. 35. 24. 99. 98. 97. 95. 94.\n",
      " 92. 88. 86. 87. 89.  7. 75. 73. 81. 65. 39.  4. 37.  3. 96. 93. 91. 85.\n",
      "  9. 83. 84. 82. 71.  8. 79. 78. 77. 53. 74. 76. 69. 45. 72. 54. 59. 61.\n",
      " 57. 47. 23. 46. 44. 42. 38. 52. 51. 43. 32. 49. 31. 26. 17. 55. 48. 56.\n",
      " nan 33.]\n",
      "Total expenditure\n",
      "[ 8.16  8.18  8.13  8.52  7.87  9.2   9.42  8.33  6.73  7.43  8.7   8.79\n",
      "  8.82  7.76  7.8   8.2   6.    5.88  5.66  5.59  5.71  5.34  5.79  5.87\n",
      "  6.1   5.86  6.12  6.38  6.27  6.3   6.26   nan  7.21  7.12  6.14  5.29\n",
      "  5.12  5.36  4.2   3.82  3.36  3.24  3.54  3.6   3.73  3.84  3.49  3.31\n",
      "  4.26  3.3   3.38  3.39  4.37  4.54  4.1   4.71  4.41  3.63  5.38  2.79\n",
      "  5.54  5.33  5.39  5.65  5.63  4.86  4.69  4.27  4.34  4.21  4.53  4.48\n",
      "  4.13  4.79  4.99  5.2   5.89  6.55  7.63  6.66  6.49  6.68  6.85  6.84\n",
      "  8.22  8.31  9.38  9.21  4.55  3.71  4.56  3.8   4.31  4.58  5.25  5.5\n",
      "  5.56  5.4   5.94  6.25  9.36  9.5   8.78  8.53  8.49  8.45  8.57  8.32\n",
      "  8.39  8.8  11.21 11.14 11.17  1.94 11.19  1.6   1.4   1.35  1.53  1.56\n",
      "  1.48  1.27  1.12  6.4   5.37  5.1   5.85  6.17  7.86  7.92  6.56  4.47\n",
      "  4.67  7.74  7.5   7.44  7.3   6.93  5.95  6.2   5.62  5.26  5.15  5.21\n",
      "  4.98  3.4   3.64  3.79  3.17  3.16  3.37  3.74  3.89  3.51  2.82  2.88\n",
      "  2.91  2.85  2.8   2.68  2.62  2.51  2.59  2.47  2.33  7.47  7.57  6.67\n",
      "  6.21  5.64  5.27  5.82  5.76  5.47  5.16  5.69  6.7   4.92  5.55  6.9\n",
      "  6.44  6.34  6.89  6.59  6.47  6.62  6.13  1.59  1.57  1.54  1.42  1.17\n",
      "  1.39  9.6   9.25  9.17  9.24  9.32  9.3   8.46  8.29  8.12  5.45  5.61\n",
      "  5.81  5.9   4.76  4.4   4.45  4.39  4.38  4.5   3.98  4.59  4.95  4.46\n",
      "  4.75  4.73  4.63  3.57  3.83  3.7   5.17  6.58  5.28  4.9   7.75  5.91\n",
      "  6.91  6.33  5.96  5.49  5.44  5.    4.96  5.19  5.67  5.22  5.3   6.53\n",
      "  6.31  9.57  9.46  9.94  9.71  9.58  9.64  8.58  8.37  8.28  8.5   9.4\n",
      "  7.94  7.1   7.16  7.9   5.41  5.84  6.39  4.93  4.65  5.73  4.64  8.48\n",
      "  8.26  8.9   8.27  8.65  8.24  8.36  7.7   6.94  7.13  7.19  2.65  2.61\n",
      "  2.3   2.25  2.73  2.23  2.32  2.24  3.1   3.9   3.5   8.44  7.93  7.11\n",
      "  6.88  7.24  6.78  6.61  6.41  7.41  7.23  7.17  6.77  6.63  6.87  6.45\n",
      "  4.85  5.6   7.54  8.3   8.21  6.96  1.3  11.49  9.84  5.72  6.42  6.32\n",
      "  6.35  5.24  4.29  4.61  4.6   4.83  4.24  3.96  4.3   5.11  4.81  5.68\n",
      "  5.93  6.24  6.36  3.75  6.43  6.74  5.7   5.18  4.97  4.7   1.45  1.67\n",
      "  1.78  1.82 11.2   9.83  9.75  9.56  9.54  9.37  9.1   8.67  3.62  3.58\n",
      "  3.99  4.16  3.95  3.42  3.    2.95  2.92  3.35  3.32  3.91  6.28  7.79\n",
      "  7.53  7.    6.97  7.39  6.18  6.69  7.34  6.48  6.51  4.89  5.8   4.32\n",
      "  4.52  4.66  4.72  4.82  7.2   6.64  6.76  6.11  5.92  6.75  5.13  4.57\n",
      "  3.65  2.86  3.56  2.29  2.27  2.9   2.54  2.37  2.42  2.56  2.45  2.44\n",
      "  2.13  9.31  9.47  9.73  9.66  9.69  7.82  8.23  7.25  7.83  8.25  6.95\n",
      "  6.19  7.66 11.6   9.48  8.59  1.19 11.78  1.79  7.67  9.39  6.5   7.37\n",
      "  7.46  7.4   6.37  6.83  5.78  5.77  7.49  7.55  7.85  6.82  6.52  6.8\n",
      "  4.33  3.77  3.53  3.61  3.14  3.34  3.2   2.67  1.8  11.25  1.98  1.87\n",
      " 11.8  11.47  1.18  9.99  9.92  9.77  9.67  9.51  9.33  9.14  8.95  8.71\n",
      "  8.84  7.72  6.22  5.75  5.58  4.12  4.22  4.28  5.53  9.16  7.29  6.46\n",
      "  4.62  3.86  5.46  4.8   5.97  6.81  7.61  8.17  4.    3.29  5.32  2.31\n",
      "  1.63  2.4   2.5   2.98  3.69  2.97  4.43  5.83  6.6   4.84  4.88  6.86\n",
      "  4.23  4.36  4.49  3.68  3.48  3.28  3.87  9.68  9.55  8.35  8.38  8.43\n",
      "  8.15  7.81  7.22 11.54 11.56 11.44 11.33 11.28  1.43  1.22  9.89  3.44\n",
      "  3.13  3.12  3.41  3.43  2.76  3.26  3.22  3.23  2.89  5.52  4.35  7.42\n",
      "  1.5   8.99  8.6   8.72 11.3  11.16  1.99  1.93 11.4   1.34  1.52  1.37\n",
      "  1.62  1.15  1.1   4.51  9.26  9.18  9.76  9.41  9.34  8.61  8.47  7.6\n",
      "  6.15  5.99  6.79  6.65  6.71  3.85  3.21  3.45  3.76  3.46  4.94  6.57\n",
      "  7.32  7.56  8.1   9.88  1.41  9.15  9.78  8.4   7.89  7.28  7.84  7.33\n",
      "  7.51  8.42  8.86  8.75  8.68  9.12  8.96  9.59  1.7   9.86  9.28  4.25\n",
      "  2.93  2.71  2.74  2.83  2.81  2.53  6.98  5.42  3.93  7.78  8.76  9.53\n",
      "  8.64  7.27  7.73  7.36  7.38  7.35  9.22  9.27  8.89  8.11  7.91  4.87\n",
      "  1.23  1.25  8.19  8.    7.45  8.88  9.9   9.65  4.42  3.19  3.47  5.57\n",
      "  5.23  3.97  4.17  4.68  1.21 12.24 12.23 13.66  9.98  9.    2.57  2.38\n",
      "  5.43  2.    2.12  2.2   2.75  2.77  4.14  4.91  6.29  6.99  8.83  8.91\n",
      "  1.9   1.86 11.7  11.79  9.8   8.85  6.92 11.23 11.87 14.39 11.83  1.24\n",
      "  8.77  4.77  2.63  7.18  7.68  7.95  7.48  4.15 11.38  1.96 12.6  11.67\n",
      " 13.73  9.52  9.95  8.93 17.24  2.87  5.31  3.78  5.35 13.71 13.38 12.77\n",
      " 13.76 13.83 13.44 12.94 11.99 11.92 12.11  1.64  7.88  5.48  4.44  4.18\n",
      "  6.23  6.16  2.28  2.16  2.22  1.92  1.68  1.83  1.97  1.84  7.15 11.1\n",
      "  1.29  8.34 11.53 11.24  7.71  7.58  3.67  3.66  4.11  2.43  3.25  2.84\n",
      "  9.72  9.49  9.44  9.85  9.62  3.55  2.52  2.49  2.1   3.18  2.7   2.94\n",
      "  4.78  7.69  9.81  1.49  1.33  3.94  9.74  1.44  2.19  2.15  2.58  2.18\n",
      "  1.32  1.61 12.8  12.49 11.41  1.88  1.2   6.72  8.63  3.92  3.88  3.72\n",
      " 11.12  1.28  3.59  2.64 11.9  11.59 11.98 13.13 12.25 11.66 11.69 11.96\n",
      " 13.63  7.96  8.51  9.23  9.29  9.7   7.98  8.62  7.77  7.99  3.81  7.97\n",
      "  2.96  7.14 11.93 11.97  8.92 11.71 11.    9.91  5.98  0.76  0.92  0.74\n",
      "  0.37  0.65  1.31  2.48  7.26  6.54 16.61  2.46  2.72  7.31 17.14 16.9\n",
      " 17.2  17.6  17.   16.2  15.57 15.27 15.15 15.14 15.6  14.55 13.7   8.74\n",
      "  8.55 11.15  3.52]\n",
      "Diphtheria \n",
      "[65. 62. 64. 67. 68. 66. 63. 58.  5. 41. 36. 33. 24. 99. 98. 97. 95. 93.\n",
      " 88. 86. 87. 89. 77. 75. 71.  6. 69. 73. 34. 38.  4. 28. 94. 91. 96. 83.\n",
      "  9. 92. 85. 84. 81. 79. 78. 76. 82.  8. 74.  7. 72. 45. 61. 54. 59. 47.\n",
      " 23. 42. 48. 51. 44. 37. 46. 39. 19. 25. 21. 26. 31. 56.  3. 53. 16.  2.\n",
      " 43. 35. 32. 57. 49. 55. 52. nan 29. 27.]\n",
      " HIV/AIDS\n",
      "[ 0.1  1.9  2.   2.3  2.6  2.5  2.4  2.1  0.2  0.4  0.8  0.7  0.9  0.5\n",
      "  0.3  0.6  1.5  1.   1.1  1.2  1.3  1.4  1.6  1.8  2.2  2.8  4.4  5.5\n",
      "  6.2  9.  12.7 13.4 14.4 20.6 28.4 31.9 34.6 37.2 38.8  1.7  2.9  3.2\n",
      "  3.6  4.   3.4  3.8  4.3  4.8  5.1  5.2  5.3  3.3  3.7  4.1  5.8  6.1\n",
      "  6.5  6.7  6.9  7.   7.1  3.5  4.6  4.9  6.3  7.2  7.4  7.5  7.7  7.8\n",
      "  7.9  4.5  6.6  7.3  8.3 10.  11.2 12.  12.8 13.9 14.3  3.1  3.9  4.7\n",
      "  5.   3.   5.9  6.8  7.6  2.7  4.2  5.7  8.2  6.   8.   8.9 10.7 10.9\n",
      " 11.1 11.  10.1  9.5  5.6  5.4  6.4  9.1 10.3 11.6 13.2 14.5 15.7 16.9\n",
      " 18.1  9.3  9.4  9.6 10.5 18.2 27.3 30.  34.1 34.8 33.8 32.5 31.2 29.8\n",
      " 13.7 14.9 19.3 21.1 22.4 23.4 24.2 24.7 25.1 25.5 10.8 11.3 12.6 14.1\n",
      " 16.3 16.2 15.9 15.3 12.2  8.7 11.7 15.2 19.2 22.1 24.  24.6 23.9 22.8\n",
      "  8.1  8.5 19.  23.5 26.4 28.1 29.5 29.7 28.9 26.6 21.3  9.8 21.6 33.7\n",
      " 40.2 40.7 43.7 49.1 50.3 50.6 49.9 48.8 46.4  8.4  8.6 11.5 12.1 12.5\n",
      " 11.9 13.6 17.  17.6 18.4 18.6 18.7  8.8 13.3 20.5 23.7 26.8 30.3 33.6\n",
      " 36.7 39.8 42.1 43.5]\n",
      "GDP\n",
      "[584.25921   612.696514  631.744976  ...  57.34834   548.587312\n",
      " 547.3588785]\n",
      "Population\n",
      "[33736494.   327582. 31731688. ...   125525. 12366165. 12222251.]\n",
      " thinness  1-19 years\n",
      "[17.2 17.5 17.7 17.9 18.2 18.4 18.6 18.8 19.  19.2 19.3 19.5 19.7 19.9\n",
      "  2.1  2.3  1.2  1.3  1.4  1.5  1.6  1.7  1.8  1.9  2.   6.   5.9  6.1\n",
      "  6.2  6.3  6.4  6.5  8.3  8.5  8.6  8.8  8.9  9.1  9.3  9.5  9.6  9.8\n",
      "  1.   3.3  3.4  3.5  3.6  3.7  1.1  0.6  0.7  2.8  2.9  3.   3.1  3.2\n",
      "  2.5  2.6  2.7 18.1 18.3 18.5 18.7 18.9 19.1  3.8  3.9  4.   4.1  4.2\n",
      "  4.3  2.2  2.4  0.9  0.8  6.9  7.1  7.2  7.4  7.6  7.8  7.9  8.1  8.7\n",
      "  9.7 15.4 15.7 15.9 16.1 16.3 16.6 16.8 17.1 17.3 17.8 18.   6.7  7.\n",
      "  7.3  7.7  8.   8.4  9.2 11.4 11.8 12.3  5.7  5.8  6.6  6.8  8.2  9.\n",
      " 11.  11.2  7.5  5.5  5.6  9.4 11.1 11.3 11.5 11.6  0.5  9.9  4.4  4.5\n",
      "  4.7  4.8  5.   5.1  5.3  0.1  4.9  5.2  5.4 11.7 11.9 12.1 12.2 12.4\n",
      "  4.6 26.7 26.8 26.9 27.  27.1 27.2 27.3 27.4 27.5 27.7  0.3  0.2 13.6\n",
      " 13.7 13.8 13.9 14.  14.1 14.2 14.3 14.4 14.5 14.6 14.7 14.8  nan 12.8\n",
      " 12.9 13.  13.1 13.2 13.3 12.  12.6 15.2 16.5 16.7 16.9 17.  17.4 17.6\n",
      "  0.4 12.5 12.7 13.5 19.4 19.6 19.8 21.  21.2 21.4 21.6 21.8 22.  22.2\n",
      " 15.1 15.3 14.9 15.6 15.8]\n",
      " thinness 5-9 years\n",
      "[17.3 17.5 17.7 18.  18.2 18.4 18.7 18.9 19.1 19.3 19.5 19.7 19.9  2.2\n",
      "  2.4  2.5  1.3  1.4  1.5  1.6  1.7  1.8  1.9  2.   2.1  5.8  5.9  6.\n",
      "  6.1  6.2  6.3  6.4  8.2  8.3  8.5  8.6  8.8  9.   9.2  9.4  9.6  9.7\n",
      "  9.9  1.1  3.3  3.4  3.5  3.6  0.9  1.   0.6  0.7  2.9  2.8  3.   3.1\n",
      "  2.6 18.3 18.6 18.8 19.  19.2 19.4  2.3  2.7 21.1 21.3 21.5  3.7  3.8\n",
      "  3.9  4.   4.1  4.2  0.8  6.8  6.9  7.1  7.3  7.5  7.6  7.8  8.   8.4\n",
      " 16.  16.2 16.5 16.7 17.  17.8 18.1 19.6  1.2  3.2  6.7  7.   7.4 11.3\n",
      " 11.8 12.2  5.1  5.2  5.3  5.4  5.5  5.6  5.7  7.7  7.9  8.1  9.1  9.3\n",
      "  9.8 11.1  7.2  8.7  8.9  6.6  9.5 11.  11.2 11.4 11.5 11.6 11.7 11.9\n",
      "  6.5  0.5  0.4  4.3  4.4  4.6  4.7  4.9  5.   0.1 12.1 12.3  4.5  4.8\n",
      " 27.3 27.4 27.5 27.6 27.7 27.8 27.9 28.  28.1 28.2 28.3 28.4 28.5 28.6\n",
      "  0.2  0.3 13.6 13.7 13.8 13.9 14.  14.1 14.2 14.3 14.4 14.5 14.6 14.7\n",
      " 14.8  nan 13.  13.1 13.2 13.3 13.4 13.5 12.  12.6 15.4 15.9 16.1 16.3\n",
      " 16.9 17.2 17.4 17.6 12.5 12.7 12.9 19.8 21.7 21.8 22.  22.2 22.4 22.6\n",
      " 12.8 15.  17.1 15.1 15.2 15.3 15.5 15.6 14.9 15.7 15.8 16.4]\n",
      "Income composition of resources\n",
      "[0.479 0.476 0.47  0.463 0.454 0.448 0.434 0.433 0.415 0.405 0.396 0.381\n",
      " 0.373 0.341 0.34  0.338 0.762 0.761 0.759 0.752 0.738 0.725 0.721 0.713\n",
      " 0.703 0.696 0.685 0.681 0.674 0.67  0.662 0.656 0.743 0.741 0.737 0.732\n",
      " 0.724 0.714 0.705 0.697 0.69  0.686 0.68  0.673 0.663 0.653 0.644 0.636\n",
      " 0.531 0.527 0.523 0.508 0.495 0.488 0.48  0.468 0.439 0.426 0.406 0.401\n",
      " 0.391 0.382 0.784 0.782 0.781 0.778 0.783 0.788 0.786 0.773 0.    0.826\n",
      " 0.825 0.823 0.822 0.816 0.802 0.794 0.792 0.78  0.775 0.77  0.776 0.771\n",
      " 0.764 0.739 0.736 0.729 0.72  0.707 0.692 0.679 0.668 0.657 0.645 0.639\n",
      " 0.937 0.936 0.933 0.93  0.927 0.925 0.921 0.918 0.915 0.91  0.908 0.905\n",
      " 0.902 0.899 0.897 0.892 0.887 0.884 0.88  0.872 0.87  0.864 0.86  0.854\n",
      " 0.848 0.841 0.837 0.847 0.833 0.758 0.745 0.742 0.728 0.719 0.708 0.682\n",
      " 0.675 0.659 0.651 0.642 0.79  0.789 0.791 0.779 0.82  0.815 0.812 0.81\n",
      " 0.814 0.813 0.806 0.803 0.798 0.796 0.575 0.57  0.565 0.557 0.545 0.535\n",
      " 0.52  0.513 0.506 0.499 0.491 0.484 0.459 0.793 0.785 0.766 0.757 0.753\n",
      " 0.749 0.75  0.787 0.755 0.723 0.695 0.687 0.895 0.89  0.889 0.886 0.878\n",
      " 0.876 0.874 0.871 0.865 0.861 0.875 0.873 0.869 0.706 0.702 0.7   0.699\n",
      " 0.691 0.684 0.678 0.677 0.481 0.475 0.466 0.458 0.451 0.444 0.438 0.43\n",
      " 0.423 0.416 0.407 0.395 0.389 0.604 0.596 0.589 0.581 0.572 0.671 0.666\n",
      " 0.661 0.655 0.649 0.643 0.632 0.626 0.625 0.622 0.62  0.617 0.61  0.607\n",
      " 0.6   0.747 0.735 0.711 0.717 0.716 0.71  0.698 0.693 0.669 0.646 0.63\n",
      " 0.593 0.58  0.567 0.558 0.56  0.559 0.754 0.734 0.73  0.704 0.694 0.863\n",
      " 0.852 0.846 0.845 0.84  0.834 0.828 0.819 0.818 0.768 0.709 0.399 0.398\n",
      " 0.392 0.384 0.377 0.365 0.356 0.345 0.334 0.325 0.404 0.393 0.385 0.361\n",
      " 0.336 0.319 0.309 0.29  0.286 0.279 0.276 0.268   nan 0.627 0.621 0.615\n",
      " 0.602 0.582 0.574 0.569 0.562 0.553 0.546 0.54  0.533 0.519 0.511 0.483\n",
      " 0.445 0.427 0.412 0.514 0.507 0.501 0.496 0.486 0.473 0.456 0.455 0.452\n",
      " 0.437 0.919 0.912 0.909 0.907 0.903 0.898 0.894 0.891 0.881 0.877 0.867\n",
      " 0.347 0.37  0.366 0.352 0.33  0.323 0.315 0.316 0.314 0.312 0.394 0.39\n",
      " 0.387 0.36  0.343 0.306 0.303 0.301 0.284 0.3   0.831 0.804 0.797 0.672\n",
      " 0.634 0.592 0.583 0.712 0.683 0.658 0.65  0.498 0.497 0.49  0.465 0.461\n",
      " 0.59  0.576 0.548 0.517 0.492 0.487 0.74  0.727 0.715 0.817 0.808 0.8\n",
      " 0.777 0.765 0.772 0.85  0.853 0.849 0.844 0.836 0.829 0.805 0.923 0.926\n",
      " 0.924 0.922 0.906 0.904 0.893 0.882 0.862 0.467 0.464 0.46  0.441 0.436\n",
      " 0.388 0.378 0.372 0.363 0.718 0.665 0.66  0.688 0.629 0.623 0.612 0.606\n",
      " 0.676 0.628 0.586 0.587 0.563 0.554 0.542 0.418 0.414 0.41  0.402 0.856\n",
      " 0.838 0.835 0.435 0.422 0.411 0.362 0.346 0.31  0.298 0.283 0.689 0.866\n",
      " 0.885 0.879 0.857 0.851 0.664 0.652 0.64  0.638 0.633 0.637 0.45  0.449\n",
      " 0.44  0.42  0.722 0.92  0.916 0.855 0.547 0.53  0.51  0.489 0.485 0.858\n",
      " 0.859 0.839 0.83  0.811 0.801 0.751 0.746 0.744 0.614 0.611 0.616 0.609\n",
      " 0.578 0.564 0.539 0.38  0.376 0.371 0.364 0.329 0.322 0.421 0.419 0.624\n",
      " 0.618 0.619 0.613 0.477 0.462 0.447 0.443 0.603 0.597 0.577 0.571 0.566\n",
      " 0.561 0.551 0.824 0.821 0.809 0.795 0.769 0.901 0.599 0.556 0.536 0.526\n",
      " 0.518 0.505 0.494 0.641 0.608 0.774 0.631 0.896 0.883 0.868 0.733 0.763\n",
      " 0.55  0.541 0.474 0.585 0.584 0.799 0.647 0.601 0.573 0.525 0.509 0.503\n",
      " 0.807 0.731 0.469 0.453 0.446 0.403 0.4   0.383 0.335 0.386 0.756 0.748\n",
      " 0.888 0.504 0.5   0.478 0.457 0.701 0.35  0.333 0.318 0.308 0.297 0.291\n",
      " 0.667 0.588 0.409 0.397 0.353 0.332 0.311 0.552 0.515 0.493 0.417 0.598\n",
      " 0.555 0.538 0.529 0.502 0.911 0.913 0.351 0.331 0.307 0.293 0.278 0.27\n",
      " 0.266 0.261 0.255 0.253 0.521 0.948 0.945 0.942 0.941 0.939 0.934 0.931\n",
      " 0.929 0.917 0.428 0.654 0.648 0.827 0.843 0.424 0.359 0.767 0.425 0.408\n",
      " 0.431 0.413 0.375 0.367 0.357 0.348 0.302 0.292 0.842 0.512 0.482 0.442\n",
      " 0.635 0.429 0.76  0.534 0.516 0.938 0.932 0.914 0.579 0.543 0.432 0.832\n",
      " 0.594 0.591]\n",
      "Schooling\n",
      "[10.1 10.   9.9  9.8  9.5  9.2  8.9  8.7  8.4  8.1  7.9  6.8  6.5  6.2\n",
      "  5.9  5.5 14.2 13.3 12.5 12.2 12.  11.6 11.4 10.8 10.9 10.7 10.6 14.4\n",
      " 14.  13.6 13.1 12.6 12.3 11.7 11.5 11.1 10.3  9.4  9.   8.5  7.7  7.2\n",
      "  6.4  5.1  4.6 13.9 13.8 14.1 14.5 14.7  0.  17.3 17.2 17.1 16.8 16.5\n",
      " 16.3 16.1 16.4 15.6 15.  12.7 11.9 11.2 20.4 20.3 20.1 19.8 19.5 19.1\n",
      " 19.  20.7 20.6 20.5 15.9 15.7 15.4 15.3 15.1 15.2 14.9 15.5 11.8 11.\n",
      " 10.4 12.4 12.1 13.7 13.5 13.2 10.2  8.6  8.2  7.5  7.3 15.8 14.8 14.6\n",
      " 16.6 16.2 18.8 18.6 18.2 18.  12.8 12.9  9.3  9.1  6.6 10.5  9.6  8.8\n",
      "  8.   7.6 14.3 13.4  6.7  6.3  5.4  4.9  4.7  4.3  3.9  3.8  3.6  3.5\n",
      "  3.4  5.6  5.2  4.4  4.5  nan 11.3  9.7  8.3  7.1  6.9  6.   5.7  5.3\n",
      " 13.  17.6 17.7 16.  19.2 18.7 18.4 16.9 16.7  5.   4.   3.7  3.3  2.9\n",
      "  5.8 17.  18.3 18.1  7.8  7.   4.8  7.4 17.9 18.5 17.5  6.1 19.3 19.7\n",
      " 18.9 17.4  4.2  3.1  3.   2.8]\n"
     ]
    }
   ],
   "source": [
    "for c in data:\n",
    "    print(c)\n",
    "    print(data[c].unique())"
   ]
  },
  {
   "attachments": {},
   "cell_type": "markdown",
   "metadata": {},
   "source": [
    "С названиями колонок беда: рандомно стоят пробелы перед или после названия колонки и портят все.\n",
    "Быстрое фикс-решение: data.columns = data.columns.str.replace(' ', '').\n",
    "Чем хорошо: убирает все пробелы.\n",
    "Чем плохо: убирает ВСЕ пробелы, и колонки типа \"Life expectancy \" становятся \"Lifeexpectancy\".\n",
    "Но это лучше, чем мучиться и угадывать, что ему не нравится в названии.\n",
    "можно также заменить пробел на _"
   ]
  },
  {
   "cell_type": "code",
   "execution_count": 179,
   "metadata": {},
   "outputs": [],
   "source": [
    "data.columns = data.columns.str.replace(' ', '_')"
   ]
  },
  {
   "cell_type": "code",
   "execution_count": 180,
   "metadata": {},
   "outputs": [
    {
     "name": "stdout",
     "output_type": "stream",
     "text": [
      "<class 'pandas.core.frame.DataFrame'>\n",
      "RangeIndex: 2938 entries, 0 to 2937\n",
      "Data columns (total 22 columns):\n",
      " #   Column                           Non-Null Count  Dtype  \n",
      "---  ------                           --------------  -----  \n",
      " 0   Country                          2938 non-null   object \n",
      " 1   Year                             2938 non-null   int64  \n",
      " 2   Status                           2938 non-null   object \n",
      " 3   Life_expectancy_                 2928 non-null   float64\n",
      " 4   Adult_Mortality                  2928 non-null   float64\n",
      " 5   infant_deaths                    2938 non-null   int64  \n",
      " 6   Alcohol                          2744 non-null   float64\n",
      " 7   percentage_expenditure           2938 non-null   float64\n",
      " 8   Hepatitis_B                      2385 non-null   float64\n",
      " 9   Measles_                         2938 non-null   int64  \n",
      " 10  _BMI_                            2904 non-null   float64\n",
      " 11  under-five_deaths_               2938 non-null   int64  \n",
      " 12  Polio                            2919 non-null   float64\n",
      " 13  Total_expenditure                2712 non-null   float64\n",
      " 14  Diphtheria_                      2919 non-null   float64\n",
      " 15  _HIV/AIDS                        2938 non-null   float64\n",
      " 16  GDP                              2490 non-null   float64\n",
      " 17  Population                       2286 non-null   float64\n",
      " 18  _thinness__1-19_years            2904 non-null   float64\n",
      " 19  _thinness_5-9_years              2904 non-null   float64\n",
      " 20  Income_composition_of_resources  2771 non-null   float64\n",
      " 21  Schooling                        2775 non-null   float64\n",
      "dtypes: float64(16), int64(4), object(2)\n",
      "memory usage: 505.1+ KB\n"
     ]
    }
   ],
   "source": [
    "data.info() "
   ]
  },
  {
   "attachments": {},
   "cell_type": "markdown",
   "metadata": {},
   "source": [
    "Что можно удалить: year и status видимо указывают на процесс сбора данных (год когда данные собирались + завершен ли сбор данных или нет)"
   ]
  },
  {
   "cell_type": "code",
   "execution_count": 181,
   "metadata": {},
   "outputs": [],
   "source": [
    "data.drop(columns = 'Year', axis = 1 , inplace = True)"
   ]
  },
  {
   "cell_type": "code",
   "execution_count": 182,
   "metadata": {},
   "outputs": [],
   "source": [
    "data.drop(columns = 'Status', axis = 1 , inplace = True)"
   ]
  },
  {
   "attachments": {},
   "cell_type": "markdown",
   "metadata": {},
   "source": [
    "Взрослая и младенческая смертность остаются, т. к. эти факторы могут влиять на продолжительность жизни. Болячки тоже остаются (гепатит, вич/спид, корь и т.д.)."
   ]
  },
  {
   "attachments": {},
   "cell_type": "markdown",
   "metadata": {},
   "source": [
    "Алкоголь пока пусть останется, но под ?  "
   ]
  },
  {
   "attachments": {},
   "cell_type": "markdown",
   "metadata": {},
   "source": [
    "BMI -- индекс массы тела. Возможно, это связано с бедностью страны и голодом (или ожирением), лучше оставить"
   ]
  },
  {
   "attachments": {},
   "cell_type": "markdown",
   "metadata": {},
   "source": [
    "under-five deaths  -- дроп, потому что есть младенческая смертность"
   ]
  },
  {
   "cell_type": "code",
   "execution_count": 183,
   "metadata": {},
   "outputs": [],
   "source": [
    "data.drop(columns = 'under-five_deaths_', axis = 1, inplace = True)"
   ]
  },
  {
   "attachments": {},
   "cell_type": "markdown",
   "metadata": {},
   "source": [
    "Непонятные колонки: percentage expenditure, Total expenditure и Income composition of resources"
   ]
  },
  {
   "cell_type": "code",
   "execution_count": 184,
   "metadata": {},
   "outputs": [],
   "source": [
    "data.drop(columns = 'percentage_expenditure', axis = 1 , inplace = True)"
   ]
  },
  {
   "cell_type": "code",
   "execution_count": 185,
   "metadata": {},
   "outputs": [],
   "source": [
    "data.drop(columns = 'Total_expenditure', axis = 1 , inplace = True)"
   ]
  },
  {
   "cell_type": "code",
   "execution_count": 186,
   "metadata": {},
   "outputs": [],
   "source": [
    "data.drop(columns = 'Income_composition_of_resources', axis = 1 , inplace = True)"
   ]
  },
  {
   "attachments": {},
   "cell_type": "markdown",
   "metadata": {},
   "source": [
    "Population оставляем. \n"
   ]
  },
  {
   "attachments": {},
   "cell_type": "markdown",
   "metadata": {},
   "source": [
    "GDP оставляем: это ВВП и влияет на экономику страны и ее развитие > благосостояние граждан"
   ]
  },
  {
   "attachments": {},
   "cell_type": "markdown",
   "metadata": {},
   "source": [
    "Колонки thinness  1-19 years и thinness 5-9 years дроп: есть колонка с подсчетом индекса массы тела\n"
   ]
  },
  {
   "attachments": {},
   "cell_type": "markdown",
   "metadata": {},
   "source": [
    "Образование оставляю. "
   ]
  },
  {
   "cell_type": "code",
   "execution_count": 187,
   "metadata": {},
   "outputs": [],
   "source": [
    "data.drop(columns = '_thinness__1-19_years', axis = 1 , inplace = True)\n"
   ]
  },
  {
   "cell_type": "code",
   "execution_count": 188,
   "metadata": {},
   "outputs": [],
   "source": [
    "data.drop(columns = '_thinness_5-9_years', axis = 1 , inplace = True)"
   ]
  },
  {
   "attachments": {},
   "cell_type": "markdown",
   "metadata": {},
   "source": [
    "Теперь надо решить что делать с Country.\n",
    "Кажется, страну можно просто дропнуть: ее прекрасно заменяет параметр ВВП, который указывает на развитые страны vs. третьего мира\n",
    "(то есть по ВВП можно отличить условные США от Афганистана)"
   ]
  },
  {
   "cell_type": "code",
   "execution_count": 189,
   "metadata": {},
   "outputs": [],
   "source": [
    "data.drop(columns = 'Country', axis = 1 , inplace = True)"
   ]
  },
  {
   "cell_type": "code",
   "execution_count": 190,
   "metadata": {},
   "outputs": [
    {
     "data": {
      "text/html": [
       "<div>\n",
       "<style scoped>\n",
       "    .dataframe tbody tr th:only-of-type {\n",
       "        vertical-align: middle;\n",
       "    }\n",
       "\n",
       "    .dataframe tbody tr th {\n",
       "        vertical-align: top;\n",
       "    }\n",
       "\n",
       "    .dataframe thead th {\n",
       "        text-align: right;\n",
       "    }\n",
       "</style>\n",
       "<table border=\"1\" class=\"dataframe\">\n",
       "  <thead>\n",
       "    <tr style=\"text-align: right;\">\n",
       "      <th></th>\n",
       "      <th>Life_expectancy_</th>\n",
       "      <th>Adult_Mortality</th>\n",
       "      <th>infant_deaths</th>\n",
       "      <th>Alcohol</th>\n",
       "      <th>Hepatitis_B</th>\n",
       "      <th>Measles_</th>\n",
       "      <th>_BMI_</th>\n",
       "      <th>Polio</th>\n",
       "      <th>Diphtheria_</th>\n",
       "      <th>_HIV/AIDS</th>\n",
       "      <th>GDP</th>\n",
       "      <th>Population</th>\n",
       "      <th>Schooling</th>\n",
       "    </tr>\n",
       "  </thead>\n",
       "  <tbody>\n",
       "    <tr>\n",
       "      <th>0</th>\n",
       "      <td>65.0</td>\n",
       "      <td>263.0</td>\n",
       "      <td>62</td>\n",
       "      <td>0.01</td>\n",
       "      <td>65.0</td>\n",
       "      <td>1154</td>\n",
       "      <td>19.1</td>\n",
       "      <td>6.0</td>\n",
       "      <td>65.0</td>\n",
       "      <td>0.1</td>\n",
       "      <td>584.259210</td>\n",
       "      <td>33736494.0</td>\n",
       "      <td>10.1</td>\n",
       "    </tr>\n",
       "    <tr>\n",
       "      <th>1</th>\n",
       "      <td>59.9</td>\n",
       "      <td>271.0</td>\n",
       "      <td>64</td>\n",
       "      <td>0.01</td>\n",
       "      <td>62.0</td>\n",
       "      <td>492</td>\n",
       "      <td>18.6</td>\n",
       "      <td>58.0</td>\n",
       "      <td>62.0</td>\n",
       "      <td>0.1</td>\n",
       "      <td>612.696514</td>\n",
       "      <td>327582.0</td>\n",
       "      <td>10.0</td>\n",
       "    </tr>\n",
       "    <tr>\n",
       "      <th>2</th>\n",
       "      <td>59.9</td>\n",
       "      <td>268.0</td>\n",
       "      <td>66</td>\n",
       "      <td>0.01</td>\n",
       "      <td>64.0</td>\n",
       "      <td>430</td>\n",
       "      <td>18.1</td>\n",
       "      <td>62.0</td>\n",
       "      <td>64.0</td>\n",
       "      <td>0.1</td>\n",
       "      <td>631.744976</td>\n",
       "      <td>31731688.0</td>\n",
       "      <td>9.9</td>\n",
       "    </tr>\n",
       "    <tr>\n",
       "      <th>3</th>\n",
       "      <td>59.5</td>\n",
       "      <td>272.0</td>\n",
       "      <td>69</td>\n",
       "      <td>0.01</td>\n",
       "      <td>67.0</td>\n",
       "      <td>2787</td>\n",
       "      <td>17.6</td>\n",
       "      <td>67.0</td>\n",
       "      <td>67.0</td>\n",
       "      <td>0.1</td>\n",
       "      <td>669.959000</td>\n",
       "      <td>3696958.0</td>\n",
       "      <td>9.8</td>\n",
       "    </tr>\n",
       "    <tr>\n",
       "      <th>4</th>\n",
       "      <td>59.2</td>\n",
       "      <td>275.0</td>\n",
       "      <td>71</td>\n",
       "      <td>0.01</td>\n",
       "      <td>68.0</td>\n",
       "      <td>3013</td>\n",
       "      <td>17.2</td>\n",
       "      <td>68.0</td>\n",
       "      <td>68.0</td>\n",
       "      <td>0.1</td>\n",
       "      <td>63.537231</td>\n",
       "      <td>2978599.0</td>\n",
       "      <td>9.5</td>\n",
       "    </tr>\n",
       "  </tbody>\n",
       "</table>\n",
       "</div>"
      ],
      "text/plain": [
       "   Life_expectancy_  Adult_Mortality  infant_deaths  Alcohol  Hepatitis_B  \\\n",
       "0              65.0            263.0             62     0.01         65.0   \n",
       "1              59.9            271.0             64     0.01         62.0   \n",
       "2              59.9            268.0             66     0.01         64.0   \n",
       "3              59.5            272.0             69     0.01         67.0   \n",
       "4              59.2            275.0             71     0.01         68.0   \n",
       "\n",
       "   Measles_  _BMI_  Polio  Diphtheria_  _HIV/AIDS         GDP  Population  \\\n",
       "0      1154   19.1    6.0         65.0        0.1  584.259210  33736494.0   \n",
       "1       492   18.6   58.0         62.0        0.1  612.696514    327582.0   \n",
       "2       430   18.1   62.0         64.0        0.1  631.744976  31731688.0   \n",
       "3      2787   17.6   67.0         67.0        0.1  669.959000   3696958.0   \n",
       "4      3013   17.2   68.0         68.0        0.1   63.537231   2978599.0   \n",
       "\n",
       "   Schooling  \n",
       "0       10.1  \n",
       "1       10.0  \n",
       "2        9.9  \n",
       "3        9.8  \n",
       "4        9.5  "
      ]
     },
     "execution_count": 190,
     "metadata": {},
     "output_type": "execute_result"
    }
   ],
   "source": [
    "data.head()"
   ]
  },
  {
   "cell_type": "code",
   "execution_count": 191,
   "metadata": {},
   "outputs": [
    {
     "name": "stdout",
     "output_type": "stream",
     "text": [
      "<class 'pandas.core.frame.DataFrame'>\n",
      "RangeIndex: 2938 entries, 0 to 2937\n",
      "Data columns (total 13 columns):\n",
      " #   Column            Non-Null Count  Dtype  \n",
      "---  ------            --------------  -----  \n",
      " 0   Life_expectancy_  2928 non-null   float64\n",
      " 1   Adult_Mortality   2928 non-null   float64\n",
      " 2   infant_deaths     2938 non-null   int64  \n",
      " 3   Alcohol           2744 non-null   float64\n",
      " 4   Hepatitis_B       2385 non-null   float64\n",
      " 5   Measles_          2938 non-null   int64  \n",
      " 6   _BMI_             2904 non-null   float64\n",
      " 7   Polio             2919 non-null   float64\n",
      " 8   Diphtheria_       2919 non-null   float64\n",
      " 9   _HIV/AIDS         2938 non-null   float64\n",
      " 10  GDP               2490 non-null   float64\n",
      " 11  Population        2286 non-null   float64\n",
      " 12  Schooling         2775 non-null   float64\n",
      "dtypes: float64(11), int64(2)\n",
      "memory usage: 298.5 KB\n"
     ]
    }
   ],
   "source": [
    "data.info()"
   ]
  },
  {
   "attachments": {},
   "cell_type": "markdown",
   "metadata": {},
   "source": [
    "НАНЫ!!!!!!!"
   ]
  },
  {
   "cell_type": "code",
   "execution_count": 192,
   "metadata": {},
   "outputs": [],
   "source": [
    "data = data.dropna()"
   ]
  },
  {
   "cell_type": "code",
   "execution_count": 193,
   "metadata": {},
   "outputs": [],
   "source": [
    "data_1 = pd.DataFrame(data=np.c_[data.drop(columns = 'Life_expectancy_', axis = 1), data['Life_expectancy_']],\n",
    "                     columns=list(data.drop(columns = 'Life_expectancy_', axis = 1)) + ['Life_expectancy_'])"
   ]
  },
  {
   "cell_type": "code",
   "execution_count": 194,
   "metadata": {},
   "outputs": [
    {
     "data": {
      "text/plain": [
       "<Figure size 5000x5000 with 0 Axes>"
      ]
     },
     "execution_count": 194,
     "metadata": {},
     "output_type": "execute_result"
    },
    {
     "data": {
      "text/plain": [
       "<Figure size 5000x5000 with 0 Axes>"
      ]
     },
     "metadata": {},
     "output_type": "display_data"
    }
   ],
   "source": [
    "plt.figure(figsize=(50,50))"
   ]
  },
  {
   "cell_type": "code",
   "execution_count": 195,
   "metadata": {},
   "outputs": [],
   "source": [
    "corr = data_1.corr()"
   ]
  },
  {
   "cell_type": "code",
   "execution_count": 196,
   "metadata": {},
   "outputs": [
    {
     "data": {
      "image/png": "[encoded data removed]",
      "text/plain": [
       "<Figure size 640x480 with 2 Axes>"
      ]
     },
     "metadata": {},
     "output_type": "display_data"
    }
   ],
   "source": [
    "g = sns.heatmap(corr,annot=True,linewidths=.5,fmt= '.2f',\\\n",
    "            mask=np.zeros_like(corr, dtype=bool), \\\n",
    "            cmap=sns.diverging_palette(200,300,as_cmap=True))"
   ]
  },
  {
   "attachments": {},
   "cell_type": "markdown",
   "metadata": {},
   "source": [
    "Образование провоцирует алкогольную зависимость ))"
   ]
  },
  {
   "attachments": {},
   "cell_type": "markdown",
   "metadata": {},
   "source": [
    "Вроде все норм, но по всей видимости численность населения страны не влияет на продолжительность жизни, значит, можно дропнуть"
   ]
  },
  {
   "cell_type": "code",
   "execution_count": 197,
   "metadata": {},
   "outputs": [],
   "source": [
    "data.drop(columns = 'Population', axis = 1 , inplace = True)"
   ]
  },
  {
   "cell_type": "code",
   "execution_count": 198,
   "metadata": {},
   "outputs": [],
   "source": [
    "X = data.drop('Life_expectancy_', axis=1)\n",
    "y = data['Life_expectancy_']"
   ]
  },
  {
   "cell_type": "code",
   "execution_count": 199,
   "metadata": {},
   "outputs": [],
   "source": [
    "Xtrain, Xtest, ytrain, ytest = train_test_split(X, y, test_size=0.2, random_state=111)"
   ]
  },
  {
   "cell_type": "code",
   "execution_count": 200,
   "metadata": {},
   "outputs": [],
   "source": [
    "scaler = StandardScaler().fit(Xtrain)\n",
    "Xtrain = scaler.transform(Xtrain)\n",
    "Xtest = scaler.transform(Xtest)\n",
    "\n",
    "regressor = LinearRegression()\n",
    "regressor.fit(Xtrain, ytrain)\n",
    "\n",
    "ypred_train = regressor.predict(Xtrain)\n",
    "ypred_test = regressor.predict(Xtest)"
   ]
  },
  {
   "cell_type": "code",
   "execution_count": 201,
   "metadata": {},
   "outputs": [
    {
     "data": {
      "text/plain": [
       "(0.8106018933043786, 0.8019294603986639)"
      ]
     },
     "execution_count": 201,
     "metadata": {},
     "output_type": "execute_result"
    }
   ],
   "source": [
    "r2_score(ytrain,ypred_train), r2_score(ytest,ypred_test)"
   ]
  },
  {
   "attachments": {},
   "cell_type": "markdown",
   "metadata": {},
   "source": [
    "^ такое намного больше мне нравится чем в задании 2"
   ]
  },
  {
   "cell_type": "code",
   "execution_count": 202,
   "metadata": {},
   "outputs": [
    {
     "data": {
      "text/html": [
       "<div>\n",
       "<style scoped>\n",
       "    .dataframe tbody tr th:only-of-type {\n",
       "        vertical-align: middle;\n",
       "    }\n",
       "\n",
       "    .dataframe tbody tr th {\n",
       "        vertical-align: top;\n",
       "    }\n",
       "\n",
       "    .dataframe thead th {\n",
       "        text-align: right;\n",
       "    }\n",
       "</style>\n",
       "<table border=\"1\" class=\"dataframe\">\n",
       "  <thead>\n",
       "    <tr style=\"text-align: right;\">\n",
       "      <th></th>\n",
       "      <th>0</th>\n",
       "      <th>0</th>\n",
       "    </tr>\n",
       "  </thead>\n",
       "  <tbody>\n",
       "    <tr>\n",
       "      <th>0</th>\n",
       "      <td>Adult_Mortality</td>\n",
       "      <td>-2.447054</td>\n",
       "    </tr>\n",
       "    <tr>\n",
       "      <th>1</th>\n",
       "      <td>infant_deaths</td>\n",
       "      <td>-0.215146</td>\n",
       "    </tr>\n",
       "    <tr>\n",
       "      <th>2</th>\n",
       "      <td>Alcohol</td>\n",
       "      <td>-0.231398</td>\n",
       "    </tr>\n",
       "    <tr>\n",
       "      <th>3</th>\n",
       "      <td>Hepatitis_B</td>\n",
       "      <td>-0.162055</td>\n",
       "    </tr>\n",
       "    <tr>\n",
       "      <th>4</th>\n",
       "      <td>Measles_</td>\n",
       "      <td>0.177078</td>\n",
       "    </tr>\n",
       "    <tr>\n",
       "      <th>5</th>\n",
       "      <td>_BMI_</td>\n",
       "      <td>1.043988</td>\n",
       "    </tr>\n",
       "    <tr>\n",
       "      <th>6</th>\n",
       "      <td>Polio</td>\n",
       "      <td>0.159157</td>\n",
       "    </tr>\n",
       "    <tr>\n",
       "      <th>7</th>\n",
       "      <td>Diphtheria_</td>\n",
       "      <td>0.533700</td>\n",
       "    </tr>\n",
       "    <tr>\n",
       "      <th>8</th>\n",
       "      <td>_HIV/AIDS</td>\n",
       "      <td>-2.660504</td>\n",
       "    </tr>\n",
       "    <tr>\n",
       "      <th>9</th>\n",
       "      <td>GDP</td>\n",
       "      <td>0.953952</td>\n",
       "    </tr>\n",
       "    <tr>\n",
       "      <th>10</th>\n",
       "      <td>Schooling</td>\n",
       "      <td>3.668627</td>\n",
       "    </tr>\n",
       "  </tbody>\n",
       "</table>\n",
       "</div>"
      ],
      "text/plain": [
       "                  0         0\n",
       "0   Adult_Mortality -2.447054\n",
       "1     infant_deaths -0.215146\n",
       "2           Alcohol -0.231398\n",
       "3       Hepatitis_B -0.162055\n",
       "4          Measles_  0.177078\n",
       "5             _BMI_  1.043988\n",
       "6             Polio  0.159157\n",
       "7       Diphtheria_  0.533700\n",
       "8         _HIV/AIDS -2.660504\n",
       "9               GDP  0.953952\n",
       "10        Schooling  3.668627"
      ]
     },
     "execution_count": 202,
     "metadata": {},
     "output_type": "execute_result"
    }
   ],
   "source": [
    "coefficients = pd.concat([pd.DataFrame(X.columns),pd.DataFrame(np.transpose(regressor.coef_))], axis = 1)\n",
    "coefficients"
   ]
  },
  {
   "cell_type": "code",
   "execution_count": 203,
   "metadata": {},
   "outputs": [
    {
     "data": {
      "text/html": [
       "<style>#sk-container-id-7 {color: black;background-color: white;}#sk-container-id-7 pre{padding: 0;}#sk-container-id-7 div.sk-toggleable {background-color: white;}#sk-container-id-7 label.sk-toggleable__label {cursor: pointer;display: block;width: 100%;margin-bottom: 0;padding: 0.3em;box-sizing: border-box;text-align: center;}#sk-container-id-7 label.sk-toggleable__label-arrow:before {content: \"▸\";float: left;margin-right: 0.25em;color: #696969;}#sk-container-id-7 label.sk-toggleable__label-arrow:hover:before {color: black;}#sk-container-id-7 div.sk-estimator:hover label.sk-toggleable__label-arrow:before {color: black;}#sk-container-id-7 div.sk-toggleable__content {max-height: 0;max-width: 0;overflow: hidden;text-align: left;background-color: #f0f8ff;}#sk-container-id-7 div.sk-toggleable__content pre {margin: 0.2em;color: black;border-radius: 0.25em;background-color: #f0f8ff;}#sk-container-id-7 input.sk-toggleable__control:checked~div.sk-toggleable__content {max-height: 200px;max-width: 100%;overflow: auto;}#sk-container-id-7 input.sk-toggleable__control:checked~label.sk-toggleable__label-arrow:before {content: \"▾\";}#sk-container-id-7 div.sk-estimator input.sk-toggleable__control:checked~label.sk-toggleable__label {background-color: #d4ebff;}#sk-container-id-7 div.sk-label input.sk-toggleable__control:checked~label.sk-toggleable__label {background-color: #d4ebff;}#sk-container-id-7 input.sk-hidden--visually {border: 0;clip: rect(1px 1px 1px 1px);clip: rect(1px, 1px, 1px, 1px);height: 1px;margin: -1px;overflow: hidden;padding: 0;position: absolute;width: 1px;}#sk-container-id-7 div.sk-estimator {font-family: monospace;background-color: #f0f8ff;border: 1px dotted black;border-radius: 0.25em;box-sizing: border-box;margin-bottom: 0.5em;}#sk-container-id-7 div.sk-estimator:hover {background-color: #d4ebff;}#sk-container-id-7 div.sk-parallel-item::after {content: \"\";width: 100%;border-bottom: 1px solid gray;flex-grow: 1;}#sk-container-id-7 div.sk-label:hover label.sk-toggleable__label {background-color: #d4ebff;}#sk-container-id-7 div.sk-serial::before {content: \"\";position: absolute;border-left: 1px solid gray;box-sizing: border-box;top: 0;bottom: 0;left: 50%;z-index: 0;}#sk-container-id-7 div.sk-serial {display: flex;flex-direction: column;align-items: center;background-color: white;padding-right: 0.2em;padding-left: 0.2em;position: relative;}#sk-container-id-7 div.sk-item {position: relative;z-index: 1;}#sk-container-id-7 div.sk-parallel {display: flex;align-items: stretch;justify-content: center;background-color: white;position: relative;}#sk-container-id-7 div.sk-item::before, #sk-container-id-7 div.sk-parallel-item::before {content: \"\";position: absolute;border-left: 1px solid gray;box-sizing: border-box;top: 0;bottom: 0;left: 50%;z-index: -1;}#sk-container-id-7 div.sk-parallel-item {display: flex;flex-direction: column;z-index: 1;position: relative;background-color: white;}#sk-container-id-7 div.sk-parallel-item:first-child::after {align-self: flex-end;width: 50%;}#sk-container-id-7 div.sk-parallel-item:last-child::after {align-self: flex-start;width: 50%;}#sk-container-id-7 div.sk-parallel-item:only-child::after {width: 0;}#sk-container-id-7 div.sk-dashed-wrapped {border: 1px dashed gray;margin: 0 0.4em 0.5em 0.4em;box-sizing: border-box;padding-bottom: 0.4em;background-color: white;}#sk-container-id-7 div.sk-label label {font-family: monospace;font-weight: bold;display: inline-block;line-height: 1.2em;}#sk-container-id-7 div.sk-label-container {text-align: center;}#sk-container-id-7 div.sk-container {/* jupyter's `normalize.less` sets `[hidden] { display: none; }` but bootstrap.min.css set `[hidden] { display: none !important; }` so we also need the `!important` here to be able to override the default hidden behavior on the sphinx rendered scikit-learn.org. See: https://github.com/scikit-learn/scikit-learn/issues/21755 */display: inline-block !important;position: relative;}#sk-container-id-7 div.sk-text-repr-fallback {display: none;}</style><div id=\"sk-container-id-7\" class=\"sk-top-container\"><div class=\"sk-text-repr-fallback\"><pre>LassoCV(alphas=array([ 0.1       ,  0.14974874,  0.19949749,  0.24924623,  0.29899497,\n",
       "        0.34874372,  0.39849246,  0.44824121,  0.49798995,  0.54773869,\n",
       "        0.59748744,  0.64723618,  0.69698492,  0.74673367,  0.79648241,\n",
       "        0.84623116,  0.8959799 ,  0.94572864,  0.99547739,  1.04522613,\n",
       "        1.09497487,  1.14472362,  1.19447236,  1.24422111,  1.29396985,\n",
       "        1.34371859,  1.39346734,  1.44321608,  1.49296482,  1.54271357,\n",
       "        1.5924...\n",
       "        8.30854271,  8.35829146,  8.4080402 ,  8.45778894,  8.50753769,\n",
       "        8.55728643,  8.60703518,  8.65678392,  8.70653266,  8.75628141,\n",
       "        8.80603015,  8.85577889,  8.90552764,  8.95527638,  9.00502513,\n",
       "        9.05477387,  9.10452261,  9.15427136,  9.2040201 ,  9.25376884,\n",
       "        9.30351759,  9.35326633,  9.40301508,  9.45276382,  9.50251256,\n",
       "        9.55226131,  9.60201005,  9.65175879,  9.70150754,  9.75125628,\n",
       "        9.80100503,  9.85075377,  9.90050251,  9.95025126, 10.        ]),\n",
       "        cv=3, random_state=17)</pre><b>In a Jupyter environment, please rerun this cell to show the HTML representation or trust the notebook. <br />On GitHub, the HTML representation is unable to render, please try loading this page with nbviewer.org.</b></div><div class=\"sk-container\" hidden><div class=\"sk-item\"><div class=\"sk-estimator sk-toggleable\"><input class=\"sk-toggleable__control sk-hidden--visually\" id=\"sk-estimator-id-7\" type=\"checkbox\" checked><label for=\"sk-estimator-id-7\" class=\"sk-toggleable__label sk-toggleable__label-arrow\">LassoCV</label><div class=\"sk-toggleable__content\"><pre>LassoCV(alphas=array([ 0.1       ,  0.14974874,  0.19949749,  0.24924623,  0.29899497,\n",
       "        0.34874372,  0.39849246,  0.44824121,  0.49798995,  0.54773869,\n",
       "        0.59748744,  0.64723618,  0.69698492,  0.74673367,  0.79648241,\n",
       "        0.84623116,  0.8959799 ,  0.94572864,  0.99547739,  1.04522613,\n",
       "        1.09497487,  1.14472362,  1.19447236,  1.24422111,  1.29396985,\n",
       "        1.34371859,  1.39346734,  1.44321608,  1.49296482,  1.54271357,\n",
       "        1.5924...\n",
       "        8.30854271,  8.35829146,  8.4080402 ,  8.45778894,  8.50753769,\n",
       "        8.55728643,  8.60703518,  8.65678392,  8.70653266,  8.75628141,\n",
       "        8.80603015,  8.85577889,  8.90552764,  8.95527638,  9.00502513,\n",
       "        9.05477387,  9.10452261,  9.15427136,  9.2040201 ,  9.25376884,\n",
       "        9.30351759,  9.35326633,  9.40301508,  9.45276382,  9.50251256,\n",
       "        9.55226131,  9.60201005,  9.65175879,  9.70150754,  9.75125628,\n",
       "        9.80100503,  9.85075377,  9.90050251,  9.95025126, 10.        ]),\n",
       "        cv=3, random_state=17)</pre></div></div></div></div></div>"
      ],
      "text/plain": [
       "LassoCV(alphas=array([ 0.1       ,  0.14974874,  0.19949749,  0.24924623,  0.29899497,\n",
       "        0.34874372,  0.39849246,  0.44824121,  0.49798995,  0.54773869,\n",
       "        0.59748744,  0.64723618,  0.69698492,  0.74673367,  0.79648241,\n",
       "        0.84623116,  0.8959799 ,  0.94572864,  0.99547739,  1.04522613,\n",
       "        1.09497487,  1.14472362,  1.19447236,  1.24422111,  1.29396985,\n",
       "        1.34371859,  1.39346734,  1.44321608,  1.49296482,  1.54271357,\n",
       "        1.5924...\n",
       "        8.30854271,  8.35829146,  8.4080402 ,  8.45778894,  8.50753769,\n",
       "        8.55728643,  8.60703518,  8.65678392,  8.70653266,  8.75628141,\n",
       "        8.80603015,  8.85577889,  8.90552764,  8.95527638,  9.00502513,\n",
       "        9.05477387,  9.10452261,  9.15427136,  9.2040201 ,  9.25376884,\n",
       "        9.30351759,  9.35326633,  9.40301508,  9.45276382,  9.50251256,\n",
       "        9.55226131,  9.60201005,  9.65175879,  9.70150754,  9.75125628,\n",
       "        9.80100503,  9.85075377,  9.90050251,  9.95025126, 10.        ]),\n",
       "        cv=3, random_state=17)"
      ]
     },
     "execution_count": 203,
     "metadata": {},
     "output_type": "execute_result"
    }
   ],
   "source": [
    "n_alphas = 200\n",
    "alphas = np.linspace(0.1, 10, n_alphas)\n",
    "\n",
    "lasso_cv = LassoCV(alphas=alphas, \n",
    "                   cv=3, random_state=17)\n",
    "lasso_cv.fit(X, y)"
   ]
  },
  {
   "cell_type": "code",
   "execution_count": 204,
   "metadata": {},
   "outputs": [
    {
     "data": {
      "text/plain": [
       "array([-2.05830020e-02, -2.50472695e-03, -0.00000000e+00, -5.99519930e-03,\n",
       "        1.65592203e-05,  5.24555988e-02,  1.04292711e-02,  2.80251410e-02,\n",
       "       -4.34302215e-01,  8.61888356e-05,  1.17074351e+00])"
      ]
     },
     "execution_count": 204,
     "metadata": {},
     "output_type": "execute_result"
    }
   ],
   "source": [
    "lasso_cv.coef_"
   ]
  },
  {
   "cell_type": "code",
   "execution_count": 205,
   "metadata": {},
   "outputs": [
    {
     "data": {
      "text/plain": [
       "0.39849246231155777"
      ]
     },
     "execution_count": 205,
     "metadata": {},
     "output_type": "execute_result"
    }
   ],
   "source": [
    "lasso_cv.alpha_"
   ]
  },
  {
   "cell_type": "code",
   "execution_count": 206,
   "metadata": {},
   "outputs": [
    {
     "name": "stdout",
     "output_type": "stream",
     "text": [
      "Scores: 0.8039217438945397 0.7954552771885509\n"
     ]
    }
   ],
   "source": [
    "regressor2 = Lasso(alpha=lasso_cv.alpha_)\n",
    "\n",
    "regressor2.fit(Xtrain, ytrain)\n",
    "\n",
    "ypred2_train = regressor2.predict(Xtrain)\n",
    "ypred2_test = regressor2.predict(Xtest)\n",
    "\n",
    "print('Scores:', r2_score(ytrain,ypred2_train), r2_score(ytest,ypred2_test))"
   ]
  },
  {
   "attachments": {},
   "cell_type": "markdown",
   "metadata": {},
   "source": [
    "Попробовала L2 регуляризацию, все испортилось, поэтому без нее обойдемся"
   ]
  },
  {
   "cell_type": "code",
   "execution_count": 207,
   "metadata": {},
   "outputs": [],
   "source": [
    "regr = ElasticNet(alpha=1.0, l1_ratio=0.5, random_state=0)"
   ]
  },
  {
   "cell_type": "code",
   "execution_count": 208,
   "metadata": {},
   "outputs": [
    {
     "data": {
      "text/html": [
       "<style>#sk-container-id-8 {color: black;background-color: white;}#sk-container-id-8 pre{padding: 0;}#sk-container-id-8 div.sk-toggleable {background-color: white;}#sk-container-id-8 label.sk-toggleable__label {cursor: pointer;display: block;width: 100%;margin-bottom: 0;padding: 0.3em;box-sizing: border-box;text-align: center;}#sk-container-id-8 label.sk-toggleable__label-arrow:before {content: \"▸\";float: left;margin-right: 0.25em;color: #696969;}#sk-container-id-8 label.sk-toggleable__label-arrow:hover:before {color: black;}#sk-container-id-8 div.sk-estimator:hover label.sk-toggleable__label-arrow:before {color: black;}#sk-container-id-8 div.sk-toggleable__content {max-height: 0;max-width: 0;overflow: hidden;text-align: left;background-color: #f0f8ff;}#sk-container-id-8 div.sk-toggleable__content pre {margin: 0.2em;color: black;border-radius: 0.25em;background-color: #f0f8ff;}#sk-container-id-8 input.sk-toggleable__control:checked~div.sk-toggleable__content {max-height: 200px;max-width: 100%;overflow: auto;}#sk-container-id-8 input.sk-toggleable__control:checked~label.sk-toggleable__label-arrow:before {content: \"▾\";}#sk-container-id-8 div.sk-estimator input.sk-toggleable__control:checked~label.sk-toggleable__label {background-color: #d4ebff;}#sk-container-id-8 div.sk-label input.sk-toggleable__control:checked~label.sk-toggleable__label {background-color: #d4ebff;}#sk-container-id-8 input.sk-hidden--visually {border: 0;clip: rect(1px 1px 1px 1px);clip: rect(1px, 1px, 1px, 1px);height: 1px;margin: -1px;overflow: hidden;padding: 0;position: absolute;width: 1px;}#sk-container-id-8 div.sk-estimator {font-family: monospace;background-color: #f0f8ff;border: 1px dotted black;border-radius: 0.25em;box-sizing: border-box;margin-bottom: 0.5em;}#sk-container-id-8 div.sk-estimator:hover {background-color: #d4ebff;}#sk-container-id-8 div.sk-parallel-item::after {content: \"\";width: 100%;border-bottom: 1px solid gray;flex-grow: 1;}#sk-container-id-8 div.sk-label:hover label.sk-toggleable__label {background-color: #d4ebff;}#sk-container-id-8 div.sk-serial::before {content: \"\";position: absolute;border-left: 1px solid gray;box-sizing: border-box;top: 0;bottom: 0;left: 50%;z-index: 0;}#sk-container-id-8 div.sk-serial {display: flex;flex-direction: column;align-items: center;background-color: white;padding-right: 0.2em;padding-left: 0.2em;position: relative;}#sk-container-id-8 div.sk-item {position: relative;z-index: 1;}#sk-container-id-8 div.sk-parallel {display: flex;align-items: stretch;justify-content: center;background-color: white;position: relative;}#sk-container-id-8 div.sk-item::before, #sk-container-id-8 div.sk-parallel-item::before {content: \"\";position: absolute;border-left: 1px solid gray;box-sizing: border-box;top: 0;bottom: 0;left: 50%;z-index: -1;}#sk-container-id-8 div.sk-parallel-item {display: flex;flex-direction: column;z-index: 1;position: relative;background-color: white;}#sk-container-id-8 div.sk-parallel-item:first-child::after {align-self: flex-end;width: 50%;}#sk-container-id-8 div.sk-parallel-item:last-child::after {align-self: flex-start;width: 50%;}#sk-container-id-8 div.sk-parallel-item:only-child::after {width: 0;}#sk-container-id-8 div.sk-dashed-wrapped {border: 1px dashed gray;margin: 0 0.4em 0.5em 0.4em;box-sizing: border-box;padding-bottom: 0.4em;background-color: white;}#sk-container-id-8 div.sk-label label {font-family: monospace;font-weight: bold;display: inline-block;line-height: 1.2em;}#sk-container-id-8 div.sk-label-container {text-align: center;}#sk-container-id-8 div.sk-container {/* jupyter's `normalize.less` sets `[hidden] { display: none; }` but bootstrap.min.css set `[hidden] { display: none !important; }` so we also need the `!important` here to be able to override the default hidden behavior on the sphinx rendered scikit-learn.org. See: https://github.com/scikit-learn/scikit-learn/issues/21755 */display: inline-block !important;position: relative;}#sk-container-id-8 div.sk-text-repr-fallback {display: none;}</style><div id=\"sk-container-id-8\" class=\"sk-top-container\"><div class=\"sk-text-repr-fallback\"><pre>ElasticNet(random_state=0)</pre><b>In a Jupyter environment, please rerun this cell to show the HTML representation or trust the notebook. <br />On GitHub, the HTML representation is unable to render, please try loading this page with nbviewer.org.</b></div><div class=\"sk-container\" hidden><div class=\"sk-item\"><div class=\"sk-estimator sk-toggleable\"><input class=\"sk-toggleable__control sk-hidden--visually\" id=\"sk-estimator-id-8\" type=\"checkbox\" checked><label for=\"sk-estimator-id-8\" class=\"sk-toggleable__label sk-toggleable__label-arrow\">ElasticNet</label><div class=\"sk-toggleable__content\"><pre>ElasticNet(random_state=0)</pre></div></div></div></div></div>"
      ],
      "text/plain": [
       "ElasticNet(random_state=0)"
      ]
     },
     "execution_count": 208,
     "metadata": {},
     "output_type": "execute_result"
    }
   ],
   "source": [
    "regr.fit(X, y)"
   ]
  },
  {
   "cell_type": "code",
   "execution_count": 209,
   "metadata": {},
   "outputs": [
    {
     "data": {
      "text/plain": [
       "array([-2.15667455e-02, -2.68773881e-03,  0.00000000e+00, -5.59920839e-03,\n",
       "        1.65036330e-05,  6.01586328e-02,  1.24743201e-02,  3.03086770e-02,\n",
       "       -4.20239206e-01,  9.68875761e-05,  1.01540632e+00])"
      ]
     },
     "execution_count": 209,
     "metadata": {},
     "output_type": "execute_result"
    }
   ],
   "source": [
    "regr.coef_"
   ]
  },
  {
   "cell_type": "code",
   "execution_count": 210,
   "metadata": {},
   "outputs": [
    {
     "data": {
      "text/plain": [
       "55.52549397974143"
      ]
     },
     "execution_count": 210,
     "metadata": {},
     "output_type": "execute_result"
    }
   ],
   "source": [
    "regr.intercept_"
   ]
  }
 ],
 "metadata": {
  "kernelspec": {
   "display_name": "Python 3",
   "language": "python",
   "name": "python3"
  },
  "language_info": {
   "codemirror_mode": {
    "name": "ipython",
    "version": 3
   },
   "file_extension": ".py",
   "mimetype": "text/x-python",
   "name": "python",
   "nbconvert_exporter": "python",
   "pygments_lexer": "ipython3",
   "version": "3.10.11"
  },
  "orig_nbformat": 4
 },
 "nbformat": 4,
 "nbformat_minor": 2
}
